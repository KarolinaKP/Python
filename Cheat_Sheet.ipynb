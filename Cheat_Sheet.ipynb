{
 "cells": [
  {
   "cell_type": "markdown",
   "metadata": {
    "application/vnd.databricks.v1+cell": {
     "cellMetadata": {
      "byteLimit": 2048000,
      "rowLimit": 10000
     },
     "inputWidgets": {},
     "nuid": "d5334b0d-923e-4298-8176-9b1073f1874f",
     "showTitle": false,
     "tableResultSettingsMap": {},
     "title": ""
    }
   },
   "source": [
    "## Python Dataframes\n",
    "A dataframe is a two-dimentional data structure, i.e. data is a tabular fashion in rows and columns. Dataframes consistis of three principal components, the data, rows, and columns.\n",
    "\n",
    "##### Pandas Dataframes\n",
    "Pandas is one of the most used open-source Python libraries to work with Structured tabular data for analysis. Pandas library is heavlly ised for Data Analytics, Machine learning, data science projects, and many more.\n",
    "Useful Pandas online resources: https://sparkbyexamples.com/python-pandas-tutorial-for-beginners/ or https://pandas.pydata.org/docs/\n",
    "\n",
    "##### Spark Dataframes\n",
    "PySpark is a Spark library written in Python to run Python applications using Apache Spark capabilities. Using PySpark we can run applications parallelly on the distributed cluster(multi nodes) or even on a single node.\n",
    "Useful PySpark online resources: https://sparkbyexamples.com/pyspark-tutorial/ or https://spark.apache.org/docs/latest/api/python/index.html\n",
    "\n",
    "##### PySpark Advantages\n",
    "- PySpark is a general-purpose, in-memory, distributed processing engine that allows you to process data efficiently in a distributed fashion.\n",
    "- Applications running on PySpark are 100x faster thatn tranditional systems.\n",
    "- Using PySpark we can process data from Hadoop HDFS, AWS S3, and many files systems.\n",
    "- PySpark natively has machine learning and graph libraries.\n",
    "\n",
    "##### PySpark Advantages\n",
    "Using Pandas API on PySpark enables data scientists and data engineers who have prior knowledge of pandas more productive by running the pandas DataFrame API on PySpark by utilizing its capabilities and running pandas operations 10x faster for big data sets. Useful PySpark.Pandas online resource: https://spark.apache.org/docs/latest/api/python/reference/pyspark.pandas/index.html\n",
    "\n",
    "\n",
    "https://www.youtube.com/watch?v=XEi-0lGYj0o&t=144s\n"
   ]
  },
  {
   "cell_type": "markdown",
   "metadata": {
    "application/vnd.databricks.v1+cell": {
     "cellMetadata": {
      "byteLimit": 2048000,
      "rowLimit": 10000
     },
     "inputWidgets": {},
     "nuid": "28fe6c16-69c5-4148-8b62-ebacc618390b",
     "showTitle": false,
     "tableResultSettingsMap": {},
     "title": ""
    }
   },
   "source": [
    "## Creating a Pandas Dataframe\n",
    "Does have the ability to import and export from workbench (AWS S3),but it requires additional packages and other requirements"
   ]
  },
  {
   "cell_type": "code",
   "execution_count": 0,
   "metadata": {
    "application/vnd.databricks.v1+cell": {
     "cellMetadata": {
      "byteLimit": 2048000,
      "rowLimit": 10000
     },
     "inputWidgets": {},
     "nuid": "4c518440-cfa6-4d47-9ed2-cee35fcc3a98",
     "showTitle": false,
     "tableResultSettingsMap": {},
     "title": ""
    }
   },
   "outputs": [],
   "source": [
    "# Import Pandas Package\n",
    "import pandas as pd\n",
    "\n",
    "# Import Spark Pandas Package\n",
    "import pyspark.pandas as ps\n",
    "\n",
    "import numpy as np\n",
    "\n",
    "from pyspark.sql.functions import count, col, when, sum\n",
    "from pyspark.sql.types import BooleanType, IntegerType\n",
    "from pyspark.sql import functions as F"
   ]
  },
  {
   "cell_type": "code",
   "execution_count": 0,
   "metadata": {
    "application/vnd.databricks.v1+cell": {
     "cellMetadata": {
      "byteLimit": 2048000,
      "rowLimit": 10000
     },
     "inputWidgets": {},
     "nuid": "039a8baa-15ba-4b62-abc5-75964f103838",
     "showTitle": false,
     "tableResultSettingsMap": {},
     "title": ""
    }
   },
   "outputs": [
    {
     "output_type": "stream",
     "name": "stdout",
     "output_type": "stream",
     "text": [
      "{'First_Name': ['Jordan', 'Aaron', 'Elgton', 'Christian', ' Kenny', 'Rashan', 'Quay', 'Jaire'], 'Last_Name': ['Love', 'Jones', 'Jenkins', 'Watson', 'Clark', 'Gary', 'Walker', 'Alexander'], 'Position': ['QB', 'RB', 'OL', 'WR', 'DL', 'OLB', 'ILB', ' CB'], 'College': ['Nevada', 'UTEP', 'Mississipi St', 'North Dakota St', 'UCLA', 'Michigan', 'Georgia', 'Loisville']}\n"
     ]
    }
   ],
   "source": [
    "# Create Dictionary with lists for data\n",
    "data = { 'First_Name' : ['Jordan', 'Aaron','Elgton', 'Christian', ' Kenny', 'Rashan', 'Quay', 'Jaire'],\n",
    "        'Last_Name':['Love', 'Jones', 'Jenkins', 'Watson', 'Clark', 'Gary', 'Walker', 'Alexander'],\n",
    "        'Position':['QB', 'RB', 'OL', 'WR', 'DL', 'OLB', 'ILB', ' CB'],\n",
    "        'College':['Nevada', 'UTEP', 'Mississipi St', 'North Dakota St', 'UCLA', 'Michigan', 'Georgia', 'Loisville']}\n",
    "\n",
    "# Print Dictionary\n",
    "print(data)"
   ]
  },
  {
   "cell_type": "code",
   "execution_count": 0,
   "metadata": {
    "application/vnd.databricks.v1+cell": {
     "cellMetadata": {
      "byteLimit": 2048000,
      "rowLimit": 10000
     },
     "inputWidgets": {},
     "nuid": "238b594b-7c14-40d4-bb07-55437804eb3a",
     "showTitle": false,
     "tableResultSettingsMap": {},
     "title": ""
    }
   },
   "outputs": [
    {
     "output_type": "stream",
     "name": "stdout",
     "output_type": "stream",
     "text": [
      "  First_Name  Last_Name Position          College\n0     Jordan       Love       QB           Nevada\n1      Aaron      Jones       RB             UTEP\n2     Elgton    Jenkins       OL    Mississipi St\n3  Christian     Watson       WR  North Dakota St\n4      Kenny      Clark       DL             UCLA\n5     Rashan       Gary      OLB         Michigan\n6       Quay     Walker      ILB          Georgia\n7      Jaire  Alexander       CB        Loisville\n"
     ]
    }
   ],
   "source": [
    "# Convert Dictionary to Pandas Dataframe\n",
    "pd_df = pd.DataFrame(data)\n",
    "\n",
    "# Print Pandas Dataframe\n",
    "print(pd_df)"
   ]
  },
  {
   "cell_type": "code",
   "execution_count": 0,
   "metadata": {
    "application/vnd.databricks.v1+cell": {
     "cellMetadata": {
      "byteLimit": 2048000,
      "rowLimit": 10000
     },
     "inputWidgets": {},
     "nuid": "93007c60-82e9-40b0-ae7a-a73ad8f7398d",
     "showTitle": false,
     "tableResultSettingsMap": {},
     "title": ""
    }
   },
   "outputs": [
    {
     "output_type": "display_data",
     "data": {
      "text/html": [
       "<style scoped>\n",
       "  .table-result-container {\n",
       "    max-height: 300px;\n",
       "    overflow: auto;\n",
       "  }\n",
       "  table, th, td {\n",
       "    border: 1px solid black;\n",
       "    border-collapse: collapse;\n",
       "  }\n",
       "  th, td {\n",
       "    padding: 5px;\n",
       "  }\n",
       "  th {\n",
       "    text-align: left;\n",
       "  }\n",
       "</style><div class='table-result-container'><table class='table-result'><thead style='background-color: white'><tr><th>First_Name</th><th>Last_Name</th><th>Position</th><th>College</th></tr></thead><tbody><tr><td>Jordan</td><td>Love</td><td>QB</td><td>Nevada</td></tr><tr><td>Aaron</td><td>Jones</td><td>RB</td><td>UTEP</td></tr><tr><td>Elgton</td><td>Jenkins</td><td>OL</td><td>Mississipi St</td></tr><tr><td>Christian</td><td>Watson</td><td>WR</td><td>North Dakota St</td></tr><tr><td> Kenny</td><td>Clark</td><td>DL</td><td>UCLA</td></tr><tr><td>Rashan</td><td>Gary</td><td>OLB</td><td>Michigan</td></tr><tr><td>Quay</td><td>Walker</td><td>ILB</td><td>Georgia</td></tr><tr><td>Jaire</td><td>Alexander</td><td> CB</td><td>Loisville</td></tr></tbody></table></div>"
      ]
     },
     "metadata": {
      "application/vnd.databricks.v1+output": {
       "addedWidgets": {},
       "aggData": [],
       "aggError": "",
       "aggOverflow": false,
       "aggSchema": [],
       "aggSeriesLimitReached": false,
       "aggType": "",
       "arguments": {},
       "columnCustomDisplayInfos": {},
       "data": [
        [
         "Jordan",
         "Love",
         "QB",
         "Nevada"
        ],
        [
         "Aaron",
         "Jones",
         "RB",
         "UTEP"
        ],
        [
         "Elgton",
         "Jenkins",
         "OL",
         "Mississipi St"
        ],
        [
         "Christian",
         "Watson",
         "WR",
         "North Dakota St"
        ],
        [
         " Kenny",
         "Clark",
         "DL",
         "UCLA"
        ],
        [
         "Rashan",
         "Gary",
         "OLB",
         "Michigan"
        ],
        [
         "Quay",
         "Walker",
         "ILB",
         "Georgia"
        ],
        [
         "Jaire",
         "Alexander",
         " CB",
         "Loisville"
        ]
       ],
       "datasetInfos": [],
       "dbfsResultPath": null,
       "isJsonSchema": true,
       "metadata": {},
       "overflow": false,
       "plotOptions": {
        "customPlotOptions": {},
        "displayType": "table",
        "pivotAggregation": null,
        "pivotColumns": null,
        "xColumns": null,
        "yColumns": null
       },
       "removedWidgets": [],
       "schema": [
        {
         "metadata": "{}",
         "name": "First_Name",
         "type": "\"string\""
        },
        {
         "metadata": "{}",
         "name": "Last_Name",
         "type": "\"string\""
        },
        {
         "metadata": "{}",
         "name": "Position",
         "type": "\"string\""
        },
        {
         "metadata": "{}",
         "name": "College",
         "type": "\"string\""
        }
       ],
       "type": "table"
      }
     },
     "output_type": "display_data"
    }
   ],
   "source": [
    "# Display Pandas Dataframe\n",
    "pd_df.display()"
   ]
  },
  {
   "cell_type": "markdown",
   "metadata": {
    "application/vnd.databricks.v1+cell": {
     "cellMetadata": {
      "byteLimit": 2048000,
      "rowLimit": 10000
     },
     "inputWidgets": {},
     "nuid": "05c7bc5d-eab1-4193-b520-8ab202bfa5ba",
     "showTitle": false,
     "tableResultSettingsMap": {},
     "title": ""
    }
   },
   "source": [
    "## Creating a Spark Dataframe\n",
    "Allows us the ability to query direcly from Hive or import and export from workbench (AWS S3)"
   ]
  },
  {
   "cell_type": "code",
   "execution_count": 0,
   "metadata": {
    "application/vnd.databricks.v1+cell": {
     "cellMetadata": {
      "byteLimit": 2048000,
      "implicitDf": true,
      "rowLimit": 10000
     },
     "inputWidgets": {},
     "nuid": "e3b003b3-be71-497e-871b-4b1ffb0fab24",
     "showTitle": false,
     "tableResultSettingsMap": {},
     "title": ""
    }
   },
   "outputs": [
    {
     "output_type": "display_data",
     "data": {
      "text/html": [
       "<style scoped>\n",
       "  .table-result-container {\n",
       "    max-height: 300px;\n",
       "    overflow: auto;\n",
       "  }\n",
       "  table, th, td {\n",
       "    border: 1px solid black;\n",
       "    border-collapse: collapse;\n",
       "  }\n",
       "  th, td {\n",
       "    padding: 5px;\n",
       "  }\n",
       "  th {\n",
       "    text-align: left;\n",
       "  }\n",
       "</style><div class='table-result-container'><table class='table-result'><thead style='background-color: white'><tr><th>database</th><th>tableName</th><th>isTemporary</th></tr></thead><tbody><tr><td>default</td><td>test</td><td>false</td></tr></tbody></table></div>"
      ]
     },
     "metadata": {
      "application/vnd.databricks.v1+output": {
       "addedWidgets": {},
       "aggData": [],
       "aggError": "",
       "aggOverflow": false,
       "aggSchema": [],
       "aggSeriesLimitReached": false,
       "aggType": "",
       "arguments": {},
       "columnCustomDisplayInfos": {},
       "data": [
        [
         "default",
         "test",
         false
        ]
       ],
       "datasetInfos": [],
       "dbfsResultPath": null,
       "isJsonSchema": true,
       "metadata": {},
       "overflow": false,
       "plotOptions": {
        "customPlotOptions": {},
        "displayType": "table",
        "pivotAggregation": null,
        "pivotColumns": null,
        "xColumns": null,
        "yColumns": null
       },
       "removedWidgets": [],
       "schema": [
        {
         "metadata": "{}",
         "name": "database",
         "type": "\"string\""
        },
        {
         "metadata": "{}",
         "name": "tableName",
         "type": "\"string\""
        },
        {
         "metadata": "{}",
         "name": "isTemporary",
         "type": "\"boolean\""
        }
       ],
       "type": "table"
      }
     },
     "output_type": "display_data"
    }
   ],
   "source": [
    "%sql\n",
    "show tables"
   ]
  },
  {
   "cell_type": "code",
   "execution_count": 0,
   "metadata": {
    "application/vnd.databricks.v1+cell": {
     "cellMetadata": {
      "byteLimit": 2048000,
      "rowLimit": 10000
     },
     "inputWidgets": {},
     "nuid": "3a64bf3b-5ecc-46b1-af01-96c1184ca523",
     "showTitle": false,
     "tableResultSettingsMap": {},
     "title": ""
    }
   },
   "outputs": [
    {
     "output_type": "stream",
     "name": "stdout",
     "output_type": "stream",
     "text": [
      "+---+---+\n|  A|  B|\n+---+---+\n|  1|  a|\n|  2|  b|\n|  3|  b|\n|  4|  b|\n|  5|  c|\n+---+---+\nonly showing top 5 rows\n\n"
     ]
    }
   ],
   "source": [
    "# Pull Data from Hive Table into Spark Dataframe\n",
    "sp_df = spark.sql(\"SELECT * FROM default.test\")\n",
    "\n",
    "# Print Top 5 Records of Spark Dataframe\n",
    "sp_df.show(n=5)"
   ]
  },
  {
   "cell_type": "code",
   "execution_count": 0,
   "metadata": {
    "application/vnd.databricks.v1+cell": {
     "cellMetadata": {
      "byteLimit": 2048000,
      "rowLimit": 10000
     },
     "inputWidgets": {},
     "nuid": "244b64ce-385f-4cb7-87e5-ebd6e74cdc26",
     "showTitle": false,
     "tableResultSettingsMap": {},
     "title": ""
    }
   },
   "outputs": [
    {
     "output_type": "display_data",
     "data": {
      "text/html": [
       "<style scoped>\n",
       "  .table-result-container {\n",
       "    max-height: 300px;\n",
       "    overflow: auto;\n",
       "  }\n",
       "  table, th, td {\n",
       "    border: 1px solid black;\n",
       "    border-collapse: collapse;\n",
       "  }\n",
       "  th, td {\n",
       "    padding: 5px;\n",
       "  }\n",
       "  th {\n",
       "    text-align: left;\n",
       "  }\n",
       "</style><div class='table-result-container'><table class='table-result'><thead style='background-color: white'><tr><th>A</th><th>B</th></tr></thead><tbody><tr><td>1</td><td>a</td></tr><tr><td>2</td><td>b</td></tr><tr><td>3</td><td>b</td></tr><tr><td>4</td><td>b</td></tr><tr><td>5</td><td>c</td></tr><tr><td>6</td><td>c</td></tr><tr><td>7</td><td>d</td></tr><tr><td>8</td><td>d</td></tr><tr><td>9</td><td>d</td></tr><tr><td>10</td><td>d</td></tr></tbody></table></div>"
      ]
     },
     "metadata": {
      "application/vnd.databricks.v1+output": {
       "addedWidgets": {},
       "aggData": [],
       "aggError": "",
       "aggOverflow": false,
       "aggSchema": [],
       "aggSeriesLimitReached": false,
       "aggType": "",
       "arguments": {},
       "columnCustomDisplayInfos": {},
       "data": [
        [
         1,
         "a"
        ],
        [
         2,
         "b"
        ],
        [
         3,
         "b"
        ],
        [
         4,
         "b"
        ],
        [
         5,
         "c"
        ],
        [
         6,
         "c"
        ],
        [
         7,
         "d"
        ],
        [
         8,
         "d"
        ],
        [
         9,
         "d"
        ],
        [
         10,
         "d"
        ]
       ],
       "datasetInfos": [],
       "dbfsResultPath": null,
       "isJsonSchema": true,
       "metadata": {},
       "overflow": false,
       "plotOptions": {
        "customPlotOptions": {},
        "displayType": "table",
        "pivotAggregation": null,
        "pivotColumns": null,
        "xColumns": null,
        "yColumns": null
       },
       "removedWidgets": [],
       "schema": [
        {
         "metadata": "{}",
         "name": "A",
         "type": "\"integer\""
        },
        {
         "metadata": "{}",
         "name": "B",
         "type": "\"string\""
        }
       ],
       "type": "table"
      }
     },
     "output_type": "display_data"
    }
   ],
   "source": [
    "# Display Spark Dataframe (limit to 10,000 rows)\n",
    "sp_df.display()\n",
    "\n",
    "sp_df.write.mode(\"overwrite\").saveAsTable(\"default.test2\")"
   ]
  },
  {
   "cell_type": "code",
   "execution_count": 0,
   "metadata": {
    "application/vnd.databricks.v1+cell": {
     "cellMetadata": {
      "byteLimit": 2048000,
      "rowLimit": 10000
     },
     "inputWidgets": {},
     "nuid": "245c01ad-9b7d-4467-b93e-16dd0a3b4c85",
     "showTitle": false,
     "tableResultSettingsMap": {},
     "title": ""
    }
   },
   "outputs": [],
   "source": [
    "# Import CSV File from Workbench (AWS S3)\n",
    "# aws_df = spark.read.format('csv').options(header='true').load('s3://***/a.csv')\n",
    "\n",
    "# Display Spark DataFrame\n",
    "# aws_df.display()"
   ]
  },
  {
   "cell_type": "code",
   "execution_count": 0,
   "metadata": {
    "application/vnd.databricks.v1+cell": {
     "cellMetadata": {
      "byteLimit": 2048000,
      "rowLimit": 10000
     },
     "inputWidgets": {},
     "nuid": "8b3a3c0e-aab8-488c-b60c-1ab5be60d27a",
     "showTitle": false,
     "tableResultSettingsMap": {},
     "title": ""
    }
   },
   "outputs": [],
   "source": [
    "# Export Spark Dataframe as CSV File to Worknech( AWS S3)\n",
    "# aws_df.write.options(header='true', compression='none').mode(\"overwrite\").csv('s3://***/a.csv')\n",
    "\n",
    "# If Spark Dataframe is small, then use coalesce(1) option\n",
    "# aws_df.coalesce(1).write.options(header='true', compression='none').mode(\"overwrite\").csv('s3://***/a.csv')\n"
   ]
  },
  {
   "cell_type": "markdown",
   "metadata": {
    "application/vnd.databricks.v1+cell": {
     "cellMetadata": {
      "byteLimit": 2048000,
      "rowLimit": 10000
     },
     "inputWidgets": {},
     "nuid": "e4048c6f-28aa-43a4-b194-5861e12f9ee1",
     "showTitle": false,
     "tableResultSettingsMap": {},
     "title": ""
    }
   },
   "source": [
    "## Converting Dataframes"
   ]
  },
  {
   "cell_type": "code",
   "execution_count": 0,
   "metadata": {
    "application/vnd.databricks.v1+cell": {
     "cellMetadata": {
      "byteLimit": 2048000,
      "rowLimit": 10000
     },
     "inputWidgets": {},
     "nuid": "a41d9094-8c44-401c-824d-b7124f729eb6",
     "showTitle": false,
     "tableResultSettingsMap": {},
     "title": ""
    }
   },
   "outputs": [
    {
     "output_type": "stream",
     "name": "stdout",
     "output_type": "stream",
     "text": [
      "<class 'pyspark.sql.dataframe.DataFrame'>\n<class 'pyspark.pandas.frame.DataFrame'>\n<class 'pandas.core.frame.DataFrame'>\n<class 'pyspark.pandas.frame.DataFrame'>\n<class 'pyspark.sql.dataframe.DataFrame'>\n<class 'pandas.core.frame.DataFrame'>\n"
     ]
    }
   ],
   "source": [
    "# Convert Pandas DataFrame to Spark Dataframe\n",
    "new_sp_df = spark.createDataFrame(pd_df)\n",
    "print(type(new_sp_df))\n",
    "\n",
    "# Convert Pandas DataFrame to Spark Pandas Dataframe\n",
    "new_ps_df = ps.from_pandas(pd_df)\n",
    "print(type(new_ps_df))\n",
    "\n",
    "# Convert Spark Dataframe to Pandas DataFrame to (Not recommended with large data)\n",
    "#new_pd_df = aws_df.toPandas()\n",
    "new_pd_df = new_sp_df.toPandas()\n",
    "print(type(new_pd_df))\n",
    "\n",
    "# Convert Spark Dataframe to Spark Pandas Dataframe\n",
    "#new_ps_df2 = aws_df.pandas_api()\n",
    "new_ps_df2 = new_sp_df.pandas_api()\n",
    "print(type(new_ps_df2))\n",
    "\n",
    "# Convert Spark Pandas DataFrame to Spark Dataframe\n",
    "#new_sp_df2 = ps_df.to_spark()\n",
    "new_sp_df2 = new_ps_df.to_spark()\n",
    "print(type(new_sp_df2))\n",
    "\n",
    "# Convert Spark Pandas DataFrame to Pandas Spark Dataframe(Not recommended with large data)\n",
    "# new_pd_df2 = ps_df.to_pandas()\n",
    "new_pd_df2 = new_ps_df.to_pandas()\n",
    "print(type(new_pd_df2))\n"
   ]
  },
  {
   "cell_type": "markdown",
   "metadata": {
    "application/vnd.databricks.v1+cell": {
     "cellMetadata": {
      "byteLimit": 2048000,
      "rowLimit": 10000
     },
     "inputWidgets": {},
     "nuid": "98b22201-4c58-4535-834e-d812ef5bd103",
     "showTitle": false,
     "tableResultSettingsMap": {},
     "title": ""
    }
   },
   "source": [
    "## Working with Dataframe\n",
    "How to wrangle, mainpulate, clean and aggregate data"
   ]
  },
  {
   "cell_type": "code",
   "execution_count": 0,
   "metadata": {
    "application/vnd.databricks.v1+cell": {
     "cellMetadata": {
      "byteLimit": 2048000,
      "implicitDf": true,
      "rowLimit": 10000
     },
     "inputWidgets": {},
     "nuid": "5d3310eb-e866-48f5-834f-e3fc37949081",
     "showTitle": false,
     "tableResultSettingsMap": {},
     "title": ""
    }
   },
   "outputs": [],
   "source": [
    "%sql\n",
    "--REFRESH TABLE default.billionaires;"
   ]
  },
  {
   "cell_type": "code",
   "execution_count": 0,
   "metadata": {
    "application/vnd.databricks.v1+cell": {
     "cellMetadata": {
      "byteLimit": 2048000,
      "rowLimit": 10000
     },
     "inputWidgets": {},
     "nuid": "8df11d22-a405-4579-85e2-ce90a8e2c122",
     "showTitle": false,
     "tableResultSettingsMap": {},
     "title": ""
    }
   },
   "outputs": [
    {
     "output_type": "display_data",
     "data": {
      "text/plain": [
       "\u001B[0;31m---------------------------------------------------------------------------\u001B[0m\n",
       "\u001B[0;31mAnalysisException\u001B[0m                         Traceback (most recent call last)\n",
       "File \u001B[0;32m<command-3491078387688486>:4\u001B[0m\n",
       "\u001B[1;32m      1\u001B[0m \u001B[38;5;66;03m# Create Final Spark DataFrame (table created via Catalog based on csv)\u001B[39;00m\n",
       "\u001B[1;32m      2\u001B[0m \u001B[38;5;66;03m# sp_df = spark.read.format('csv').options(header='true').load('s3://***/billionaires.csv')\u001B[39;00m\n",
       "\u001B[0;32m----> 4\u001B[0m sp_df \u001B[38;5;241m=\u001B[39m spark\u001B[38;5;241m.\u001B[39msql(\u001B[38;5;124m\"\u001B[39m\u001B[38;5;124mSELECT * FROM default.billionaires\u001B[39m\u001B[38;5;124m\"\u001B[39m)\n",
       "\u001B[1;32m      6\u001B[0m \u001B[38;5;28mprint\u001B[39m(\u001B[38;5;28mtype\u001B[39m(sp_df))\n",
       "\u001B[1;32m      7\u001B[0m sp_df\u001B[38;5;241m.\u001B[39mdisplay()\n",
       "\n",
       "File \u001B[0;32m/databricks/spark/python/pyspark/instrumentation_utils.py:48\u001B[0m, in \u001B[0;36m_wrap_function.<locals>.wrapper\u001B[0;34m(*args, **kwargs)\u001B[0m\n",
       "\u001B[1;32m     46\u001B[0m start \u001B[38;5;241m=\u001B[39m time\u001B[38;5;241m.\u001B[39mperf_counter()\n",
       "\u001B[1;32m     47\u001B[0m \u001B[38;5;28;01mtry\u001B[39;00m:\n",
       "\u001B[0;32m---> 48\u001B[0m     res \u001B[38;5;241m=\u001B[39m \u001B[43mfunc\u001B[49m\u001B[43m(\u001B[49m\u001B[38;5;241;43m*\u001B[39;49m\u001B[43margs\u001B[49m\u001B[43m,\u001B[49m\u001B[43m \u001B[49m\u001B[38;5;241;43m*\u001B[39;49m\u001B[38;5;241;43m*\u001B[39;49m\u001B[43mkwargs\u001B[49m\u001B[43m)\u001B[49m\n",
       "\u001B[1;32m     49\u001B[0m     logger\u001B[38;5;241m.\u001B[39mlog_success(\n",
       "\u001B[1;32m     50\u001B[0m         module_name, class_name, function_name, time\u001B[38;5;241m.\u001B[39mperf_counter() \u001B[38;5;241m-\u001B[39m start, signature\n",
       "\u001B[1;32m     51\u001B[0m     )\n",
       "\u001B[1;32m     52\u001B[0m     \u001B[38;5;28;01mreturn\u001B[39;00m res\n",
       "\n",
       "File \u001B[0;32m/databricks/spark/python/pyspark/sql/session.py:1387\u001B[0m, in \u001B[0;36mSparkSession.sql\u001B[0;34m(self, sqlQuery, args, **kwargs)\u001B[0m\n",
       "\u001B[1;32m   1385\u001B[0m \u001B[38;5;28;01mtry\u001B[39;00m:\n",
       "\u001B[1;32m   1386\u001B[0m     litArgs \u001B[38;5;241m=\u001B[39m {k: _to_java_column(lit(v)) \u001B[38;5;28;01mfor\u001B[39;00m k, v \u001B[38;5;129;01min\u001B[39;00m (args \u001B[38;5;129;01mor\u001B[39;00m {})\u001B[38;5;241m.\u001B[39mitems()}\n",
       "\u001B[0;32m-> 1387\u001B[0m     \u001B[38;5;28;01mreturn\u001B[39;00m DataFrame(\u001B[38;5;28;43mself\u001B[39;49m\u001B[38;5;241;43m.\u001B[39;49m\u001B[43m_jsparkSession\u001B[49m\u001B[38;5;241;43m.\u001B[39;49m\u001B[43msql\u001B[49m\u001B[43m(\u001B[49m\u001B[43msqlQuery\u001B[49m\u001B[43m,\u001B[49m\u001B[43m \u001B[49m\u001B[43mlitArgs\u001B[49m\u001B[43m)\u001B[49m, \u001B[38;5;28mself\u001B[39m)\n",
       "\u001B[1;32m   1388\u001B[0m \u001B[38;5;28;01mfinally\u001B[39;00m:\n",
       "\u001B[1;32m   1389\u001B[0m     \u001B[38;5;28;01mif\u001B[39;00m \u001B[38;5;28mlen\u001B[39m(kwargs) \u001B[38;5;241m>\u001B[39m \u001B[38;5;241m0\u001B[39m:\n",
       "\n",
       "File \u001B[0;32m/databricks/spark/python/lib/py4j-0.10.9.5-src.zip/py4j/java_gateway.py:1321\u001B[0m, in \u001B[0;36mJavaMember.__call__\u001B[0;34m(self, *args)\u001B[0m\n",
       "\u001B[1;32m   1315\u001B[0m command \u001B[38;5;241m=\u001B[39m proto\u001B[38;5;241m.\u001B[39mCALL_COMMAND_NAME \u001B[38;5;241m+\u001B[39m\\\n",
       "\u001B[1;32m   1316\u001B[0m     \u001B[38;5;28mself\u001B[39m\u001B[38;5;241m.\u001B[39mcommand_header \u001B[38;5;241m+\u001B[39m\\\n",
       "\u001B[1;32m   1317\u001B[0m     args_command \u001B[38;5;241m+\u001B[39m\\\n",
       "\u001B[1;32m   1318\u001B[0m     proto\u001B[38;5;241m.\u001B[39mEND_COMMAND_PART\n",
       "\u001B[1;32m   1320\u001B[0m answer \u001B[38;5;241m=\u001B[39m \u001B[38;5;28mself\u001B[39m\u001B[38;5;241m.\u001B[39mgateway_client\u001B[38;5;241m.\u001B[39msend_command(command)\n",
       "\u001B[0;32m-> 1321\u001B[0m return_value \u001B[38;5;241m=\u001B[39m \u001B[43mget_return_value\u001B[49m\u001B[43m(\u001B[49m\n",
       "\u001B[1;32m   1322\u001B[0m \u001B[43m    \u001B[49m\u001B[43manswer\u001B[49m\u001B[43m,\u001B[49m\u001B[43m \u001B[49m\u001B[38;5;28;43mself\u001B[39;49m\u001B[38;5;241;43m.\u001B[39;49m\u001B[43mgateway_client\u001B[49m\u001B[43m,\u001B[49m\u001B[43m \u001B[49m\u001B[38;5;28;43mself\u001B[39;49m\u001B[38;5;241;43m.\u001B[39;49m\u001B[43mtarget_id\u001B[49m\u001B[43m,\u001B[49m\u001B[43m \u001B[49m\u001B[38;5;28;43mself\u001B[39;49m\u001B[38;5;241;43m.\u001B[39;49m\u001B[43mname\u001B[49m\u001B[43m)\u001B[49m\n",
       "\u001B[1;32m   1324\u001B[0m \u001B[38;5;28;01mfor\u001B[39;00m temp_arg \u001B[38;5;129;01min\u001B[39;00m temp_args:\n",
       "\u001B[1;32m   1325\u001B[0m     temp_arg\u001B[38;5;241m.\u001B[39m_detach()\n",
       "\n",
       "File \u001B[0;32m/databricks/spark/python/pyspark/errors/exceptions.py:234\u001B[0m, in \u001B[0;36mcapture_sql_exception.<locals>.deco\u001B[0;34m(*a, **kw)\u001B[0m\n",
       "\u001B[1;32m    230\u001B[0m converted \u001B[38;5;241m=\u001B[39m convert_exception(e\u001B[38;5;241m.\u001B[39mjava_exception)\n",
       "\u001B[1;32m    231\u001B[0m \u001B[38;5;28;01mif\u001B[39;00m \u001B[38;5;129;01mnot\u001B[39;00m \u001B[38;5;28misinstance\u001B[39m(converted, UnknownException):\n",
       "\u001B[1;32m    232\u001B[0m     \u001B[38;5;66;03m# Hide where the exception came from that shows a non-Pythonic\u001B[39;00m\n",
       "\u001B[1;32m    233\u001B[0m     \u001B[38;5;66;03m# JVM exception message.\u001B[39;00m\n",
       "\u001B[0;32m--> 234\u001B[0m     \u001B[38;5;28;01mraise\u001B[39;00m converted \u001B[38;5;28;01mfrom\u001B[39;00m \u001B[38;5;28mNone\u001B[39m\n",
       "\u001B[1;32m    235\u001B[0m \u001B[38;5;28;01melse\u001B[39;00m:\n",
       "\u001B[1;32m    236\u001B[0m     \u001B[38;5;28;01mraise\u001B[39;00m\n",
       "\n",
       "\u001B[0;31mAnalysisException\u001B[0m: [TABLE_OR_VIEW_NOT_FOUND] The table or view `default`.`billionaires` cannot be found. Verify the spelling and correctness of the schema and catalog.\n",
       "If you did not qualify the name with a schema, verify the current_schema() output, or qualify the name with the correct schema and catalog.\n",
       "To tolerate the error on drop use DROP VIEW IF EXISTS or DROP TABLE IF EXISTS.; line 1 pos 14;\n",
       "'Project [*]\n",
       "+- 'UnresolvedRelation [default, billionaires], [], false\n"
      ]
     },
     "metadata": {
      "application/vnd.databricks.v1+output": {
       "arguments": {},
       "data": "\u001B[0;31m---------------------------------------------------------------------------\u001B[0m\n\u001B[0;31mAnalysisException\u001B[0m                         Traceback (most recent call last)\nFile \u001B[0;32m<command-3491078387688486>:4\u001B[0m\n\u001B[1;32m      1\u001B[0m \u001B[38;5;66;03m# Create Final Spark DataFrame (table created via Catalog based on csv)\u001B[39;00m\n\u001B[1;32m      2\u001B[0m \u001B[38;5;66;03m# sp_df = spark.read.format('csv').options(header='true').load('s3://***/billionaires.csv')\u001B[39;00m\n\u001B[0;32m----> 4\u001B[0m sp_df \u001B[38;5;241m=\u001B[39m spark\u001B[38;5;241m.\u001B[39msql(\u001B[38;5;124m\"\u001B[39m\u001B[38;5;124mSELECT * FROM default.billionaires\u001B[39m\u001B[38;5;124m\"\u001B[39m)\n\u001B[1;32m      6\u001B[0m \u001B[38;5;28mprint\u001B[39m(\u001B[38;5;28mtype\u001B[39m(sp_df))\n\u001B[1;32m      7\u001B[0m sp_df\u001B[38;5;241m.\u001B[39mdisplay()\n\nFile \u001B[0;32m/databricks/spark/python/pyspark/instrumentation_utils.py:48\u001B[0m, in \u001B[0;36m_wrap_function.<locals>.wrapper\u001B[0;34m(*args, **kwargs)\u001B[0m\n\u001B[1;32m     46\u001B[0m start \u001B[38;5;241m=\u001B[39m time\u001B[38;5;241m.\u001B[39mperf_counter()\n\u001B[1;32m     47\u001B[0m \u001B[38;5;28;01mtry\u001B[39;00m:\n\u001B[0;32m---> 48\u001B[0m     res \u001B[38;5;241m=\u001B[39m \u001B[43mfunc\u001B[49m\u001B[43m(\u001B[49m\u001B[38;5;241;43m*\u001B[39;49m\u001B[43margs\u001B[49m\u001B[43m,\u001B[49m\u001B[43m \u001B[49m\u001B[38;5;241;43m*\u001B[39;49m\u001B[38;5;241;43m*\u001B[39;49m\u001B[43mkwargs\u001B[49m\u001B[43m)\u001B[49m\n\u001B[1;32m     49\u001B[0m     logger\u001B[38;5;241m.\u001B[39mlog_success(\n\u001B[1;32m     50\u001B[0m         module_name, class_name, function_name, time\u001B[38;5;241m.\u001B[39mperf_counter() \u001B[38;5;241m-\u001B[39m start, signature\n\u001B[1;32m     51\u001B[0m     )\n\u001B[1;32m     52\u001B[0m     \u001B[38;5;28;01mreturn\u001B[39;00m res\n\nFile \u001B[0;32m/databricks/spark/python/pyspark/sql/session.py:1387\u001B[0m, in \u001B[0;36mSparkSession.sql\u001B[0;34m(self, sqlQuery, args, **kwargs)\u001B[0m\n\u001B[1;32m   1385\u001B[0m \u001B[38;5;28;01mtry\u001B[39;00m:\n\u001B[1;32m   1386\u001B[0m     litArgs \u001B[38;5;241m=\u001B[39m {k: _to_java_column(lit(v)) \u001B[38;5;28;01mfor\u001B[39;00m k, v \u001B[38;5;129;01min\u001B[39;00m (args \u001B[38;5;129;01mor\u001B[39;00m {})\u001B[38;5;241m.\u001B[39mitems()}\n\u001B[0;32m-> 1387\u001B[0m     \u001B[38;5;28;01mreturn\u001B[39;00m DataFrame(\u001B[38;5;28;43mself\u001B[39;49m\u001B[38;5;241;43m.\u001B[39;49m\u001B[43m_jsparkSession\u001B[49m\u001B[38;5;241;43m.\u001B[39;49m\u001B[43msql\u001B[49m\u001B[43m(\u001B[49m\u001B[43msqlQuery\u001B[49m\u001B[43m,\u001B[49m\u001B[43m \u001B[49m\u001B[43mlitArgs\u001B[49m\u001B[43m)\u001B[49m, \u001B[38;5;28mself\u001B[39m)\n\u001B[1;32m   1388\u001B[0m \u001B[38;5;28;01mfinally\u001B[39;00m:\n\u001B[1;32m   1389\u001B[0m     \u001B[38;5;28;01mif\u001B[39;00m \u001B[38;5;28mlen\u001B[39m(kwargs) \u001B[38;5;241m>\u001B[39m \u001B[38;5;241m0\u001B[39m:\n\nFile \u001B[0;32m/databricks/spark/python/lib/py4j-0.10.9.5-src.zip/py4j/java_gateway.py:1321\u001B[0m, in \u001B[0;36mJavaMember.__call__\u001B[0;34m(self, *args)\u001B[0m\n\u001B[1;32m   1315\u001B[0m command \u001B[38;5;241m=\u001B[39m proto\u001B[38;5;241m.\u001B[39mCALL_COMMAND_NAME \u001B[38;5;241m+\u001B[39m\\\n\u001B[1;32m   1316\u001B[0m     \u001B[38;5;28mself\u001B[39m\u001B[38;5;241m.\u001B[39mcommand_header \u001B[38;5;241m+\u001B[39m\\\n\u001B[1;32m   1317\u001B[0m     args_command \u001B[38;5;241m+\u001B[39m\\\n\u001B[1;32m   1318\u001B[0m     proto\u001B[38;5;241m.\u001B[39mEND_COMMAND_PART\n\u001B[1;32m   1320\u001B[0m answer \u001B[38;5;241m=\u001B[39m \u001B[38;5;28mself\u001B[39m\u001B[38;5;241m.\u001B[39mgateway_client\u001B[38;5;241m.\u001B[39msend_command(command)\n\u001B[0;32m-> 1321\u001B[0m return_value \u001B[38;5;241m=\u001B[39m \u001B[43mget_return_value\u001B[49m\u001B[43m(\u001B[49m\n\u001B[1;32m   1322\u001B[0m \u001B[43m    \u001B[49m\u001B[43manswer\u001B[49m\u001B[43m,\u001B[49m\u001B[43m \u001B[49m\u001B[38;5;28;43mself\u001B[39;49m\u001B[38;5;241;43m.\u001B[39;49m\u001B[43mgateway_client\u001B[49m\u001B[43m,\u001B[49m\u001B[43m \u001B[49m\u001B[38;5;28;43mself\u001B[39;49m\u001B[38;5;241;43m.\u001B[39;49m\u001B[43mtarget_id\u001B[49m\u001B[43m,\u001B[49m\u001B[43m \u001B[49m\u001B[38;5;28;43mself\u001B[39;49m\u001B[38;5;241;43m.\u001B[39;49m\u001B[43mname\u001B[49m\u001B[43m)\u001B[49m\n\u001B[1;32m   1324\u001B[0m \u001B[38;5;28;01mfor\u001B[39;00m temp_arg \u001B[38;5;129;01min\u001B[39;00m temp_args:\n\u001B[1;32m   1325\u001B[0m     temp_arg\u001B[38;5;241m.\u001B[39m_detach()\n\nFile \u001B[0;32m/databricks/spark/python/pyspark/errors/exceptions.py:234\u001B[0m, in \u001B[0;36mcapture_sql_exception.<locals>.deco\u001B[0;34m(*a, **kw)\u001B[0m\n\u001B[1;32m    230\u001B[0m converted \u001B[38;5;241m=\u001B[39m convert_exception(e\u001B[38;5;241m.\u001B[39mjava_exception)\n\u001B[1;32m    231\u001B[0m \u001B[38;5;28;01mif\u001B[39;00m \u001B[38;5;129;01mnot\u001B[39;00m \u001B[38;5;28misinstance\u001B[39m(converted, UnknownException):\n\u001B[1;32m    232\u001B[0m     \u001B[38;5;66;03m# Hide where the exception came from that shows a non-Pythonic\u001B[39;00m\n\u001B[1;32m    233\u001B[0m     \u001B[38;5;66;03m# JVM exception message.\u001B[39;00m\n\u001B[0;32m--> 234\u001B[0m     \u001B[38;5;28;01mraise\u001B[39;00m converted \u001B[38;5;28;01mfrom\u001B[39;00m \u001B[38;5;28mNone\u001B[39m\n\u001B[1;32m    235\u001B[0m \u001B[38;5;28;01melse\u001B[39;00m:\n\u001B[1;32m    236\u001B[0m     \u001B[38;5;28;01mraise\u001B[39;00m\n\n\u001B[0;31mAnalysisException\u001B[0m: [TABLE_OR_VIEW_NOT_FOUND] The table or view `default`.`billionaires` cannot be found. Verify the spelling and correctness of the schema and catalog.\nIf you did not qualify the name with a schema, verify the current_schema() output, or qualify the name with the correct schema and catalog.\nTo tolerate the error on drop use DROP VIEW IF EXISTS or DROP TABLE IF EXISTS.; line 1 pos 14;\n'Project [*]\n+- 'UnresolvedRelation [default, billionaires], [], false\n",
       "errorSummary": "<span class='ansi-red-fg'>AnalysisException</span>: [TABLE_OR_VIEW_NOT_FOUND] The table or view `default`.`billionaires` cannot be found. Verify the spelling and correctness of the schema and catalog.\nIf you did not qualify the name with a schema, verify the current_schema() output, or qualify the name with the correct schema and catalog.\nTo tolerate the error on drop use DROP VIEW IF EXISTS or DROP TABLE IF EXISTS.; line 1 pos 14;\n'Project [*]\n+- 'UnresolvedRelation [default, billionaires], [], false\n",
       "errorTraceType": "ansi",
       "metadata": {},
       "type": "ipynbError"
      }
     },
     "output_type": "display_data"
    }
   ],
   "source": [
    "# Create Final Spark DataFrame (table created via Catalog based on csv)\n",
    "# sp_df = spark.read.format('csv').options(header='true').load('s3://***/billionaires.csv')\n",
    "\n",
    "sp_df = spark.sql(\"SELECT * FROM default.billionaires\")\n",
    "\n",
    "print(type(sp_df))\n",
    "sp_df.display()"
   ]
  },
  {
   "cell_type": "code",
   "execution_count": 0,
   "metadata": {
    "application/vnd.databricks.v1+cell": {
     "cellMetadata": {
      "byteLimit": 2048000,
      "rowLimit": 10000
     },
     "inputWidgets": {},
     "nuid": "f1bf9d11-37a6-4753-bc15-fa527a4e645b",
     "showTitle": false,
     "tableResultSettingsMap": {},
     "title": ""
    }
   },
   "outputs": [
    {
     "output_type": "display_data",
     "data": {
      "text/plain": [
       ""
      ]
     },
     "metadata": {
      "application/vnd.databricks.v1+output": {
       "arguments": {},
       "data": "",
       "errorSummary": "Command skipped",
       "errorTraceType": "ansi",
       "metadata": {},
       "type": "ipynbError"
      }
     },
     "output_type": "display_data"
    }
   ],
   "source": [
    "# Create Final Pandas Spark DataFrame (table created via Catalog based on csv)\n",
    "# ps_df = ps.read_csv('s3://***/billionaires.csv')\n",
    "ps_df = sp_df.pandas_api()\n",
    "\n",
    "print(type(ps_df))\n",
    "ps_df.display()\n",
    "\n"
   ]
  },
  {
   "cell_type": "markdown",
   "metadata": {
    "application/vnd.databricks.v1+cell": {
     "cellMetadata": {
      "byteLimit": 2048000,
      "rowLimit": 10000
     },
     "inputWidgets": {},
     "nuid": "b70f608f-ab02-4235-9a61-2552a1723c90",
     "showTitle": false,
     "tableResultSettingsMap": {},
     "title": ""
    }
   },
   "source": [
    "## Viewing Dataframe Schema Information"
   ]
  },
  {
   "cell_type": "code",
   "execution_count": 0,
   "metadata": {
    "application/vnd.databricks.v1+cell": {
     "cellMetadata": {
      "byteLimit": 2048000,
      "rowLimit": 10000
     },
     "inputWidgets": {},
     "nuid": "b2c1302d-200f-4b6b-9616-f238abad3eff",
     "showTitle": false,
     "tableResultSettingsMap": {},
     "title": ""
    }
   },
   "outputs": [
    {
     "output_type": "display_data",
     "data": {
      "text/plain": [
       ""
      ]
     },
     "metadata": {
      "application/vnd.databricks.v1+output": {
       "arguments": {},
       "data": "",
       "errorSummary": "Command skipped",
       "errorTraceType": "ansi",
       "metadata": {},
       "type": "ipynbError"
      }
     },
     "output_type": "display_data"
    }
   ],
   "source": [
    "# View Shape (number of obs and cols) of Spark Dataframe\n",
    "print(sp_df.count(), len(sp_df.columns) ) \n",
    "\n",
    "# View Information (all fields, type and non-null counts) of Spark Dataframe \n",
    "sp_df.select([count(when(col(c).isNotNull(), c)).alias(c) for c in sp_df.columns]).show()\n",
    "sp_df.printSchema()\n"
   ]
  },
  {
   "cell_type": "code",
   "execution_count": 0,
   "metadata": {
    "application/vnd.databricks.v1+cell": {
     "cellMetadata": {
      "byteLimit": 2048000,
      "rowLimit": 10000
     },
     "inputWidgets": {},
     "nuid": "3cd590e6-42df-4f59-9751-af4819108ca0",
     "showTitle": false,
     "tableResultSettingsMap": {},
     "title": ""
    }
   },
   "outputs": [
    {
     "output_type": "display_data",
     "data": {
      "text/plain": [
       ""
      ]
     },
     "metadata": {
      "application/vnd.databricks.v1+output": {
       "arguments": {},
       "data": "",
       "errorSummary": "Command skipped",
       "errorTraceType": "ansi",
       "metadata": {},
       "type": "ipynbError"
      }
     },
     "output_type": "display_data"
    }
   ],
   "source": [
    "# View Shape (number of obs and cols) of Spark Pandas Dataframe \n",
    "print(ps_df.shape)\n",
    "\n",
    "# View Information (all fields, type and non-null counts) of Spark Pandas Dataframe \n",
    "print(ps_df.info())"
   ]
  },
  {
   "cell_type": "code",
   "execution_count": 0,
   "metadata": {
    "application/vnd.databricks.v1+cell": {
     "cellMetadata": {
      "byteLimit": 2048000,
      "rowLimit": 10000
     },
     "inputWidgets": {},
     "nuid": "d5a4ede2-9ac8-4498-814e-f55d21560bc0",
     "showTitle": false,
     "tableResultSettingsMap": {},
     "title": ""
    }
   },
   "outputs": [
    {
     "output_type": "display_data",
     "data": {
      "text/plain": [
       ""
      ]
     },
     "metadata": {
      "application/vnd.databricks.v1+output": {
       "arguments": {},
       "data": "",
       "errorSummary": "Command skipped",
       "errorTraceType": "ansi",
       "metadata": {},
       "type": "ipynbError"
      }
     },
     "output_type": "display_data"
    }
   ],
   "source": [
    "# Modify Spark Dataframe Fields\n",
    "sp_df_mod = sp_df.withColumn('rank', sp_df['rank'].cast(IntegerType())) \\\n",
    "    .withColumn('wealth_worth in billions', sp_df['wealth_worth in billions'].cast(IntegerType())) \\\n",
    "    .withColumn('wealth_how_was political', sp_df['wealth_how_was political'].cast(BooleanType())) \\\n",
    "\n",
    "print(sp_df.count(), len(sp_df.columns)) \n",
    "\n",
    "sp_df_mod.printSchema()"
   ]
  },
  {
   "cell_type": "markdown",
   "metadata": {
    "application/vnd.databricks.v1+cell": {
     "cellMetadata": {
      "byteLimit": 2048000,
      "rowLimit": 10000
     },
     "inputWidgets": {},
     "nuid": "b5b0ef35-05c6-4364-9e25-bebff842fef3",
     "showTitle": false,
     "tableResultSettingsMap": {},
     "title": ""
    }
   },
   "source": [
    "## Running Summary Statistics on Dataframes"
   ]
  },
  {
   "cell_type": "code",
   "execution_count": 0,
   "metadata": {
    "application/vnd.databricks.v1+cell": {
     "cellMetadata": {
      "byteLimit": 2048000,
      "rowLimit": 10000
     },
     "inputWidgets": {},
     "nuid": "d83f23f0-c24a-4e84-91e4-417b0cce16d8",
     "showTitle": false,
     "tableResultSettingsMap": {},
     "title": ""
    }
   },
   "outputs": [
    {
     "output_type": "display_data",
     "data": {
      "text/plain": [
       ""
      ]
     },
     "metadata": {
      "application/vnd.databricks.v1+output": {
       "arguments": {},
       "data": "",
       "errorSummary": "Command skipped",
       "errorTraceType": "ansi",
       "metadata": {},
       "type": "ipynbError"
      }
     },
     "output_type": "display_data"
    }
   ],
   "source": [
    "# Describe Spark Dataframe - Summary Statistics opn All Columns\n",
    "sp_df_mod.summary().display()"
   ]
  },
  {
   "cell_type": "code",
   "execution_count": 0,
   "metadata": {
    "application/vnd.databricks.v1+cell": {
     "cellMetadata": {
      "byteLimit": 2048000,
      "rowLimit": 10000
     },
     "inputWidgets": {},
     "nuid": "99652656-d06b-46b3-a75a-67edf42fb87c",
     "showTitle": false,
     "tableResultSettingsMap": {},
     "title": ""
    }
   },
   "outputs": [
    {
     "output_type": "display_data",
     "data": {
      "text/plain": [
       ""
      ]
     },
     "metadata": {
      "application/vnd.databricks.v1+output": {
       "arguments": {},
       "data": "",
       "errorSummary": "Command skipped",
       "errorTraceType": "ansi",
       "metadata": {},
       "type": "ipynbError"
      }
     },
     "output_type": "display_data"
    }
   ],
   "source": [
    "# Describe Spark Pandas Dataframe - Summary Statistics on Numeric Columns\n",
    "ps_df.describe()"
   ]
  },
  {
   "cell_type": "markdown",
   "metadata": {
    "application/vnd.databricks.v1+cell": {
     "cellMetadata": {
      "byteLimit": 2048000,
      "rowLimit": 10000
     },
     "inputWidgets": {},
     "nuid": "135a9fa6-c519-42d6-9911-db6a13d71ee9",
     "showTitle": false,
     "tableResultSettingsMap": {},
     "title": ""
    }
   },
   "source": [
    "##Creating Categorical Distribiution Output on Dataframe"
   ]
  },
  {
   "cell_type": "code",
   "execution_count": 0,
   "metadata": {
    "application/vnd.databricks.v1+cell": {
     "cellMetadata": {
      "byteLimit": 2048000,
      "rowLimit": 10000
     },
     "inputWidgets": {},
     "nuid": "170b3aa4-7ebb-496a-8857-3a75e33052f5",
     "showTitle": false,
     "tableResultSettingsMap": {},
     "title": ""
    }
   },
   "outputs": [
    {
     "output_type": "display_data",
     "data": {
      "text/plain": [
       ""
      ]
     },
     "metadata": {
      "application/vnd.databricks.v1+output": {
       "arguments": {},
       "data": "",
       "errorSummary": "Command skipped",
       "errorTraceType": "ansi",
       "metadata": {},
       "type": "ipynbError"
      }
     },
     "output_type": "display_data"
    }
   ],
   "source": [
    "# Run Distributions on Character Columns in Spark Dataframe\n",
    "\n",
    "# Create List of Character Columns Wanted\n",
    "char_vars = ['company_sector','demographics_age','demographics_gender']\n",
    "\n",
    "# Loop Through Character Columns to Create Distributions\n",
    "for char in char_vars:\n",
    "    # Calucate Count and Percent\n",
    "    result = sp_df.groupBy(char).agg(count(char).alias('Frequency')).selectExpr('*','round(100 * Frequency / sum(Frequency) over(), 2) Percent')\n",
    "\n",
    "    # Display Distribution Spark Dataframe\n",
    "    result.orderBy(char).display()\n"
   ]
  },
  {
   "cell_type": "code",
   "execution_count": 0,
   "metadata": {
    "application/vnd.databricks.v1+cell": {
     "cellMetadata": {
      "byteLimit": 2048000,
      "rowLimit": 10000
     },
     "inputWidgets": {},
     "nuid": "84b8650c-2cee-4b21-97db-9e97f18ac116",
     "showTitle": false,
     "tableResultSettingsMap": {},
     "title": ""
    }
   },
   "outputs": [
    {
     "output_type": "display_data",
     "data": {
      "text/plain": [
       ""
      ]
     },
     "metadata": {
      "application/vnd.databricks.v1+output": {
       "arguments": {},
       "data": "",
       "errorSummary": "Command skipped",
       "errorTraceType": "ansi",
       "metadata": {},
       "type": "ipynbError"
      }
     },
     "output_type": "display_data"
    }
   ],
   "source": [
    "# Run Distributions on Character Columns in Spark Pandas Dataframe\n",
    "\n",
    "# Create List of Character Columns Wanted\n",
    "char_vars = ['company_sector','demographics_age','demographics_gender']\n",
    "\n",
    "# Loop Through Character Columns to Create Distributions\n",
    "for char in char_vars:\n",
    "    # Gather Count by Index\n",
    "    df_freq = ps_df[char].value_counts().sort_index()\n",
    "\n",
    "    # Put Count into Spark Pandas Dataframe\n",
    "    df_disp = ps.DataFrame({\n",
    "        char: df_freq.index.to_numpy(),\n",
    "        'Frequency': df_freq.values,\n",
    "        'Percent': ((df_freq.values/df_freq.values.sum())*100).round(2)\n",
    "    }) \n",
    "    \n",
    "    # Display Distribution Spark Dataframe\n",
    "    df_disp.display()\n"
   ]
  },
  {
   "cell_type": "markdown",
   "metadata": {
    "application/vnd.databricks.v1+cell": {
     "cellMetadata": {
      "byteLimit": 2048000,
      "rowLimit": 10000
     },
     "inputWidgets": {},
     "nuid": "c1a3d24a-fbcd-4206-8fc4-e498849990b0",
     "showTitle": false,
     "tableResultSettingsMap": {},
     "title": ""
    }
   },
   "source": [
    "## Sorting Dataframes"
   ]
  },
  {
   "cell_type": "code",
   "execution_count": 0,
   "metadata": {
    "application/vnd.databricks.v1+cell": {
     "cellMetadata": {
      "byteLimit": 2048000,
      "rowLimit": 10000
     },
     "inputWidgets": {},
     "nuid": "bffc5563-283c-4f3f-a7e8-d3ec7e19ca0c",
     "showTitle": false,
     "tableResultSettingsMap": {},
     "title": ""
    }
   },
   "outputs": [
    {
     "output_type": "display_data",
     "data": {
      "text/plain": [
       ""
      ]
     },
     "metadata": {
      "application/vnd.databricks.v1+output": {
       "arguments": {},
       "data": "",
       "errorSummary": "Command skipped",
       "errorTraceType": "ansi",
       "metadata": {},
       "type": "ipynbError"
      }
     },
     "output_type": "display_data"
    }
   ],
   "source": [
    "# Sorting a Spark Dataframe by Single Column\n",
    "sp_df_mod.sort(\"wealth_worth in billions\").display()"
   ]
  },
  {
   "cell_type": "code",
   "execution_count": 0,
   "metadata": {
    "application/vnd.databricks.v1+cell": {
     "cellMetadata": {
      "byteLimit": 2048000,
      "rowLimit": 10000
     },
     "inputWidgets": {},
     "nuid": "bab1e42c-d3af-45da-bc66-741018ada592",
     "showTitle": false,
     "tableResultSettingsMap": {},
     "title": ""
    }
   },
   "outputs": [
    {
     "output_type": "display_data",
     "data": {
      "text/plain": [
       ""
      ]
     },
     "metadata": {
      "application/vnd.databricks.v1+output": {
       "arguments": {},
       "data": "",
       "errorSummary": "Command skipped",
       "errorTraceType": "ansi",
       "metadata": {},
       "type": "ipynbError"
      }
     },
     "output_type": "display_data"
    }
   ],
   "source": [
    "# Sorting a Spark Pandas Dataframe by Single Column\n",
    "ps_df.sort_values(by=\"wealth_worth in billions\").display()"
   ]
  },
  {
   "cell_type": "code",
   "execution_count": 0,
   "metadata": {
    "application/vnd.databricks.v1+cell": {
     "cellMetadata": {
      "byteLimit": 2048000,
      "rowLimit": 10000
     },
     "inputWidgets": {},
     "nuid": "fac1138b-d0d4-4efb-b7df-115a8a6974f0",
     "showTitle": false,
     "tableResultSettingsMap": {},
     "title": ""
    }
   },
   "outputs": [
    {
     "output_type": "display_data",
     "data": {
      "text/plain": [
       ""
      ]
     },
     "metadata": {
      "application/vnd.databricks.v1+output": {
       "arguments": {},
       "data": "",
       "errorSummary": "Command skipped",
       "errorTraceType": "ansi",
       "metadata": {},
       "type": "ipynbError"
      }
     },
     "output_type": "display_data"
    }
   ],
   "source": [
    "# Creating a New Spark Pandas Dataframe by Sorting a Spark Pandas Dataframe by Multiple Columns\n",
    "#sp_df_sort = sp_df_mod.sort(sp_df_mod['company_sector'].asc(),sp_df_mod['demographics_age'].desc()) \n",
    "sp_df_sort = sp_df_mod.sort(sp_df_mod.company_sector.asc(),sp_df_mod.demographics_age.desc()) \n",
    "\n",
    "sp_df_sort.display()"
   ]
  },
  {
   "cell_type": "code",
   "execution_count": 0,
   "metadata": {
    "application/vnd.databricks.v1+cell": {
     "cellMetadata": {
      "byteLimit": 2048000,
      "rowLimit": 10000
     },
     "inputWidgets": {},
     "nuid": "57c5f3fa-5671-416b-962b-4af820064dcf",
     "showTitle": false,
     "tableResultSettingsMap": {},
     "title": ""
    }
   },
   "outputs": [
    {
     "output_type": "display_data",
     "data": {
      "text/plain": [
       ""
      ]
     },
     "metadata": {
      "application/vnd.databricks.v1+output": {
       "arguments": {},
       "data": "",
       "errorSummary": "Command skipped",
       "errorTraceType": "ansi",
       "metadata": {},
       "type": "ipynbError"
      }
     },
     "output_type": "display_data"
    }
   ],
   "source": [
    "# Creating a New Spark Pandas Dataframe by Sorting a Spark Pandas by Multiple Columns\n",
    "ps_df_sort = ps_df.sort_values(by=['company_sector', 'demographics_age'], ascending = [True, False]) \n",
    "\n",
    "ps_df_sort.display()\n"
   ]
  },
  {
   "cell_type": "markdown",
   "metadata": {
    "application/vnd.databricks.v1+cell": {
     "cellMetadata": {
      "byteLimit": 2048000,
      "rowLimit": 10000
     },
     "inputWidgets": {},
     "nuid": "0c460c07-d7a9-404a-af95-58a1c1bd2706",
     "showTitle": false,
     "tableResultSettingsMap": {},
     "title": ""
    }
   },
   "source": [
    "## Removing Duplicate Observation from Dataframes"
   ]
  },
  {
   "cell_type": "code",
   "execution_count": 0,
   "metadata": {
    "application/vnd.databricks.v1+cell": {
     "cellMetadata": {
      "byteLimit": 2048000,
      "rowLimit": 10000
     },
     "inputWidgets": {},
     "nuid": "16d2b321-22b8-4f6f-83f2-b9b3a54195b1",
     "showTitle": false,
     "tableResultSettingsMap": {},
     "title": ""
    }
   },
   "outputs": [
    {
     "output_type": "display_data",
     "data": {
      "text/plain": [
       ""
      ]
     },
     "metadata": {
      "application/vnd.databricks.v1+output": {
       "arguments": {},
       "data": "",
       "errorSummary": "Command skipped",
       "errorTraceType": "ansi",
       "metadata": {},
       "type": "ipynbError"
      }
     },
     "output_type": "display_data"
    }
   ],
   "source": [
    "# Removing Duplicates in a Spark Dataframe\n",
    "sp_df_dedup = sp_df_sort.dropDuplicates(['company_sector'])\n",
    "\n",
    "sp_df_dedup.display()"
   ]
  },
  {
   "cell_type": "code",
   "execution_count": 0,
   "metadata": {
    "application/vnd.databricks.v1+cell": {
     "cellMetadata": {
      "byteLimit": 2048000,
      "rowLimit": 10000
     },
     "inputWidgets": {},
     "nuid": "ff3408fe-4b1d-4e8c-a677-979d78450c24",
     "showTitle": false,
     "tableResultSettingsMap": {},
     "title": ""
    }
   },
   "outputs": [
    {
     "output_type": "display_data",
     "data": {
      "text/plain": [
       ""
      ]
     },
     "metadata": {
      "application/vnd.databricks.v1+output": {
       "arguments": {},
       "data": "",
       "errorSummary": "Command skipped",
       "errorTraceType": "ansi",
       "metadata": {},
       "type": "ipynbError"
      }
     },
     "output_type": "display_data"
    }
   ],
   "source": [
    "# Removing Duplicates in a Spark Pandas Dataframe\n",
    "ps_df_dedup = ps_df_sort.drop_duplicates(['company_sector'], keep = 'first')\n",
    "\n",
    "ps_df_dedup.display()"
   ]
  },
  {
   "cell_type": "markdown",
   "metadata": {
    "application/vnd.databricks.v1+cell": {
     "cellMetadata": {
      "byteLimit": 2048000,
      "rowLimit": 10000
     },
     "inputWidgets": {},
     "nuid": "86f33997-5aa4-41ad-aec5-38d88a7a44e1",
     "showTitle": false,
     "tableResultSettingsMap": {},
     "title": ""
    }
   },
   "source": [
    "## Creating New Columns in Dataframes"
   ]
  },
  {
   "cell_type": "code",
   "execution_count": 0,
   "metadata": {
    "application/vnd.databricks.v1+cell": {
     "cellMetadata": {
      "byteLimit": 2048000,
      "rowLimit": 10000
     },
     "inputWidgets": {},
     "nuid": "c57709bb-52f6-4677-b128-31dd374fc058",
     "showTitle": false,
     "tableResultSettingsMap": {},
     "title": ""
    }
   },
   "outputs": [
    {
     "output_type": "display_data",
     "data": {
      "text/plain": [
       ""
      ]
     },
     "metadata": {
      "application/vnd.databricks.v1+output": {
       "arguments": {},
       "data": "",
       "errorSummary": "Command skipped",
       "errorTraceType": "ansi",
       "metadata": {},
       "type": "ipynbError"
      }
     },
     "output_type": "display_data"
    }
   ],
   "source": [
    "# Create New Binary Column in Spark Dataframe\n",
    "sp_df_mod.withColumn('age65', f.when(sp_df_mod.demographics_age >=65, 1).otherwise(0)). \\\n",
    "    select(['name','rank', 'demographics_age', 'age65']). \\\n",
    "        show(n=10)\n"
   ]
  },
  {
   "cell_type": "code",
   "execution_count": 0,
   "metadata": {
    "application/vnd.databricks.v1+cell": {
     "cellMetadata": {
      "byteLimit": 2048000,
      "rowLimit": 10000
     },
     "inputWidgets": {},
     "nuid": "6ffd5e40-eb0a-43f2-99ed-c1a83d2f0764",
     "showTitle": false,
     "tableResultSettingsMap": {},
     "title": ""
    }
   },
   "outputs": [
    {
     "output_type": "display_data",
     "data": {
      "text/plain": [
       ""
      ]
     },
     "metadata": {
      "application/vnd.databricks.v1+output": {
       "arguments": {},
       "data": "",
       "errorSummary": "Command skipped",
       "errorTraceType": "ansi",
       "metadata": {},
       "type": "ipynbError"
      }
     },
     "output_type": "display_data"
    }
   ],
   "source": [
    "# Create New Binary Column in Spark Pandas Dataframe\n",
    "ps_df.loc[ps_df['demographics_age']>=65, 'age65'] = 1\n",
    "ps_df.loc[ps_df['demographics_age']< 65, 'age65'] = 0\n",
    "\n",
    "ps_df[['name','rank', 'demographics_age', 'age65']].head(10)"
   ]
  },
  {
   "cell_type": "code",
   "execution_count": 0,
   "metadata": {
    "application/vnd.databricks.v1+cell": {
     "cellMetadata": {
      "byteLimit": 2048000,
      "rowLimit": 10000
     },
     "inputWidgets": {},
     "nuid": "f59e676f-6ca9-42ae-8bd7-80f5404b484d",
     "showTitle": false,
     "tableResultSettingsMap": {},
     "title": ""
    }
   },
   "outputs": [
    {
     "output_type": "display_data",
     "data": {
      "text/plain": [
       ""
      ]
     },
     "metadata": {
      "application/vnd.databricks.v1+output": {
       "arguments": {},
       "data": "",
       "errorSummary": "Command skipped",
       "errorTraceType": "ansi",
       "metadata": {},
       "type": "ipynbError"
      }
     },
     "output_type": "display_data"
    }
   ],
   "source": [
    "# Create New Spark Dataframe with New Categorical Column in Spark Dataframe\n",
    "sp_df_age = sp_df_mod.withColumn('age_bucket', F.when((F.col('demographics_age') < 30), '< 30') \\\n",
    "                                                 .when((F.col('demographics_age') >= 30) & (F.col('demographics_age') < 50 ), ' 30 - 49') \\\n",
    "                                                 .when((F.col('demographics_age') >= 50) & (F.col('demographics_age') < 65 ), ' 50 - 64') \\\n",
    "                                                 .when((F.col('demographics_age') >= 65) & (F.col('demographics_age') < 80 ), ' 65 - 79') \\\n",
    "                                                 .otherwise('>= 80'))\n",
    "\n",
    "sp_df_age.select(['name','rank', 'demographics_age', 'age_bucket']).show(n=10)\n"
   ]
  },
  {
   "cell_type": "code",
   "execution_count": 0,
   "metadata": {
    "application/vnd.databricks.v1+cell": {
     "cellMetadata": {
      "byteLimit": 2048000,
      "rowLimit": 10000
     },
     "inputWidgets": {},
     "nuid": "a2b6d9d3-406f-434b-9a27-16a3b3124aa5",
     "showTitle": false,
     "tableResultSettingsMap": {},
     "title": ""
    }
   },
   "outputs": [
    {
     "output_type": "display_data",
     "data": {
      "text/plain": [
       ""
      ]
     },
     "metadata": {
      "application/vnd.databricks.v1+output": {
       "arguments": {},
       "data": "",
       "errorSummary": "Command skipped",
       "errorTraceType": "ansi",
       "metadata": {},
       "type": "ipynbError"
      }
     },
     "output_type": "display_data"
    }
   ],
   "source": [
    "# Copy Spark Pandas Dataframe to New Spark Pandas Dataframe\n",
    "ps_df_age = ps_df.copy()\n",
    "\n",
    "# Apply Logic to Create New Categotical Column in Spark Pandas Dataframe\n",
    "ps_df_age.loc[ps_df_age['demographics_age'] <  30, 'age_bucket'] = '< 30'\n",
    "ps_df_age.loc[(ps_df_age['demographics_age'] >= 30) & (ps_df_age['demographics_age'] < 50), 'age_bucket'] = '30-49'\n",
    "ps_df_age.loc[(ps_df_age['demographics_age'] >= 50) & (ps_df_age['demographics_age'] < 65), 'age_bucket'] = '50-64'\n",
    "ps_df_age.loc[(ps_df_age['demographics_age'] >= 65) & (ps_df_age['demographics_age'] < 80), 'age_bucket'] = '65-79'\n",
    "ps_df_age.loc[(ps_df_age['demographics_age'] >= 80), 'age_bucket'] = '>= 80'\n",
    "\n",
    "ps_df_age[['name','rank', 'demographics_age', 'age_bucket']].head(10)\n"
   ]
  },
  {
   "cell_type": "markdown",
   "metadata": {
    "application/vnd.databricks.v1+cell": {
     "cellMetadata": {
      "byteLimit": 2048000,
      "rowLimit": 10000
     },
     "inputWidgets": {},
     "nuid": "ec63e3d6-6806-4049-b389-91a7bda64db2",
     "showTitle": false,
     "tableResultSettingsMap": {},
     "title": ""
    }
   },
   "source": [
    "## Filtering Dataframe"
   ]
  },
  {
   "cell_type": "code",
   "execution_count": 0,
   "metadata": {
    "application/vnd.databricks.v1+cell": {
     "cellMetadata": {
      "byteLimit": 2048000,
      "rowLimit": 10000
     },
     "inputWidgets": {},
     "nuid": "747322cb-b45d-4e77-b9c3-ec5c36f6c8aa",
     "showTitle": false,
     "tableResultSettingsMap": {},
     "title": ""
    }
   },
   "outputs": [
    {
     "output_type": "display_data",
     "data": {
      "text/plain": [
       ""
      ]
     },
     "metadata": {
      "application/vnd.databricks.v1+output": {
       "arguments": {},
       "data": "",
       "errorSummary": "Command skipped",
       "errorTraceType": "ansi",
       "metadata": {},
       "type": "ipynbError"
      }
     },
     "output_type": "display_data"
    }
   ],
   "source": [
    "# Filter Spark Dataframe and Keep Certain Columns\n",
    "sp_df_filter = sp_df_age.filter(sp_df_age.age_bucket == '>= 80').select(['name','rank', 'demographics_age', 'age_bucket'])\n",
    "\n",
    "sp_df_filter.display()"
   ]
  },
  {
   "cell_type": "code",
   "execution_count": 0,
   "metadata": {
    "application/vnd.databricks.v1+cell": {
     "cellMetadata": {
      "byteLimit": 2048000,
      "rowLimit": 10000
     },
     "inputWidgets": {},
     "nuid": "237a839d-185d-49dd-a91d-99f3c5477793",
     "showTitle": false,
     "tableResultSettingsMap": {},
     "title": ""
    }
   },
   "outputs": [
    {
     "output_type": "display_data",
     "data": {
      "text/plain": [
       ""
      ]
     },
     "metadata": {
      "application/vnd.databricks.v1+output": {
       "arguments": {},
       "data": "",
       "errorSummary": "Command skipped",
       "errorTraceType": "ansi",
       "metadata": {},
       "type": "ipynbError"
      }
     },
     "output_type": "display_data"
    }
   ],
   "source": [
    "# Filter Spark Pandas Dataframe and Keep Certain Columns\n",
    "ps_df_filter = ps_df_age[['name','rank', 'demographics_age', 'age_bucket']].loc[ps_df_age['age_bucket'] == '>= 80' ]\n",
    "\n",
    "ps_df_filter.display()"
   ]
  },
  {
   "cell_type": "markdown",
   "metadata": {
    "application/vnd.databricks.v1+cell": {
     "cellMetadata": {
      "byteLimit": 2048000,
      "rowLimit": 10000
     },
     "inputWidgets": {},
     "nuid": "8a0a3471-db10-492f-bcf4-f1f5f1196aa9",
     "showTitle": false,
     "tableResultSettingsMap": {},
     "title": ""
    }
   },
   "source": [
    "## Appending and Merging DataFrames"
   ]
  },
  {
   "cell_type": "code",
   "execution_count": 0,
   "metadata": {
    "application/vnd.databricks.v1+cell": {
     "cellMetadata": {
      "byteLimit": 2048000,
      "rowLimit": 10000
     },
     "inputWidgets": {},
     "nuid": "8a76bb98-368c-4c0b-b2ce-63a8d9975d0a",
     "showTitle": false,
     "tableResultSettingsMap": {},
     "title": ""
    }
   },
   "outputs": [
    {
     "output_type": "display_data",
     "data": {
      "text/plain": [
       ""
      ]
     },
     "metadata": {
      "application/vnd.databricks.v1+output": {
       "arguments": {},
       "data": "",
       "errorSummary": "Command skipped",
       "errorTraceType": "ansi",
       "metadata": {},
       "type": "ipynbError"
      }
     },
     "output_type": "display_data"
    }
   ],
   "source": [
    "# Filter Spark Dataframe and Keep Certain Columns\n",
    "sp_df_filter2 = sp_df_age.filter(sp_df_age.age_bucket != '>= 80').select(['name','rank', 'demographics_age', 'age_bucket'])\n",
    "\n",
    "# Append Spark Dataframe\n",
    "sp_df_combine = sp_df_filter.union(sp_df_filter2)\n",
    "\n",
    "sp_df_combine.display()\n"
   ]
  },
  {
   "cell_type": "code",
   "execution_count": 0,
   "metadata": {
    "application/vnd.databricks.v1+cell": {
     "cellMetadata": {
      "byteLimit": 2048000,
      "rowLimit": 10000
     },
     "inputWidgets": {},
     "nuid": "467812a9-a03f-4e94-b7e6-b8062c6b9d05",
     "showTitle": false,
     "tableResultSettingsMap": {},
     "title": ""
    }
   },
   "outputs": [
    {
     "output_type": "display_data",
     "data": {
      "text/plain": [
       ""
      ]
     },
     "metadata": {
      "application/vnd.databricks.v1+output": {
       "arguments": {},
       "data": "",
       "errorSummary": "Command skipped",
       "errorTraceType": "ansi",
       "metadata": {},
       "type": "ipynbError"
      }
     },
     "output_type": "display_data"
    }
   ],
   "source": [
    "# Filter Spark Pandas Dataframe and Keep Certain Columns\n",
    "ps_df_filter2 = ps_df_age[['name','rank', 'demographics_age', 'age_bucket']].loc[ps_df_age['age_bucket'] != '>= 80' ]\n",
    "\n",
    "# Append Spark Pandas Dataframe\n",
    "ps_df_combine = ps_df_filter.append(ps_df_filter2)\n",
    "\n",
    "ps_df_combine.display()"
   ]
  },
  {
   "cell_type": "code",
   "execution_count": 0,
   "metadata": {
    "application/vnd.databricks.v1+cell": {
     "cellMetadata": {
      "byteLimit": 2048000,
      "rowLimit": 10000
     },
     "inputWidgets": {},
     "nuid": "8fea53f1-fd58-46ac-a385-a8dd06b2c839",
     "showTitle": false,
     "tableResultSettingsMap": {},
     "title": ""
    }
   },
   "outputs": [
    {
     "output_type": "display_data",
     "data": {
      "text/plain": [
       ""
      ]
     },
     "metadata": {
      "application/vnd.databricks.v1+output": {
       "arguments": {},
       "data": "",
       "errorSummary": "Command skipped",
       "errorTraceType": "ansi",
       "metadata": {},
       "type": "ipynbError"
      }
     },
     "output_type": "display_data"
    }
   ],
   "source": [
    "# Create Dictionary with Lists for data1\n",
    "data1 = {'category': ['A','B','C','D'],\n",
    "         'number':list(range(1,5))}\n",
    "\n",
    "# Create Dictionary with Lists for data2\n",
    "data2 = {'category': ['A','C','E','F'],\n",
    "         'color':['red','blue','yellow','black']}\n",
    "\n",
    "print(data1)\n",
    "print(data2)\n",
    "\n",
    "# Create New Spark Pandas Dataframes\n",
    "df_ps1 = ps.DataFrame(data1)\n",
    "df_ps2 = ps.DataFrame(data2)\n",
    "\n",
    "print(type(df_ps1))\n",
    "print(type(df_ps2))\n",
    "\n",
    "# Create New Spark Dataframes\n",
    "df_sp1 = df_ps1.to_spark()\n",
    "df_sp2 = df_ps2.to_spark()\n",
    "\n",
    "print(type(df_sp1))\n",
    "print(type(df_sp2))"
   ]
  },
  {
   "cell_type": "markdown",
   "metadata": {
    "application/vnd.databricks.v1+cell": {
     "cellMetadata": {
      "byteLimit": 2048000,
      "rowLimit": 10000
     },
     "inputWidgets": {},
     "nuid": "050a96b3-5c51-49b8-b9d8-efa91cb984bf",
     "showTitle": false,
     "tableResultSettingsMap": {},
     "title": ""
    }
   },
   "source": [
    "## Inner Join Merge"
   ]
  },
  {
   "cell_type": "code",
   "execution_count": 0,
   "metadata": {
    "application/vnd.databricks.v1+cell": {
     "cellMetadata": {
      "byteLimit": 2048000,
      "rowLimit": 10000
     },
     "inputWidgets": {},
     "nuid": "f6ad14b0-876b-41ef-af59-b75a19717c48",
     "showTitle": false,
     "tableResultSettingsMap": {},
     "title": ""
    }
   },
   "outputs": [
    {
     "output_type": "display_data",
     "data": {
      "text/plain": [
       ""
      ]
     },
     "metadata": {
      "application/vnd.databricks.v1+output": {
       "arguments": {},
       "data": "",
       "errorSummary": "Command skipped",
       "errorTraceType": "ansi",
       "metadata": {},
       "type": "ipynbError"
      }
     },
     "output_type": "display_data"
    }
   ],
   "source": [
    "# Merge Spark Dataframes with INNER Join\n",
    "df_sp_inner = df_sp1.join(df_sp2, df_sp1.category == df_sp2.category, \"inner\")\n",
    "df_sp_inner.display()\n",
    "\n",
    "# Merge Spark Dataframes with INNER Join - Drop Duplicate Column\n",
    "df_sp_inner = df_sp1.join(df_sp2, df_sp1.category == df_sp2.category, \"inner\") \\\n",
    "    .drop(df_sp2.category)\n",
    "df_sp_inner.display()"
   ]
  },
  {
   "cell_type": "code",
   "execution_count": 0,
   "metadata": {
    "application/vnd.databricks.v1+cell": {
     "cellMetadata": {
      "byteLimit": 2048000,
      "rowLimit": 10000
     },
     "inputWidgets": {},
     "nuid": "0790be0e-1488-483c-9845-83b7b7d23bbb",
     "showTitle": false,
     "tableResultSettingsMap": {},
     "title": ""
    }
   },
   "outputs": [
    {
     "output_type": "display_data",
     "data": {
      "text/plain": [
       ""
      ]
     },
     "metadata": {
      "application/vnd.databricks.v1+output": {
       "arguments": {},
       "data": "",
       "errorSummary": "Command skipped",
       "errorTraceType": "ansi",
       "metadata": {},
       "type": "ipynbError"
      }
     },
     "output_type": "display_data"
    }
   ],
   "source": [
    "# Merge Spark Pandas Dataframes with INNER Join - Automatically Coalesces 'ON' Column\n",
    "df_ps_inner = ps.merge(df_ps1, df_ps2, on='category', how=\"inner\")\n",
    "df_sp_inner.display()"
   ]
  },
  {
   "cell_type": "markdown",
   "metadata": {
    "application/vnd.databricks.v1+cell": {
     "cellMetadata": {
      "byteLimit": 2048000,
      "rowLimit": 10000
     },
     "inputWidgets": {},
     "nuid": "7642f938-e83a-4beb-bc02-b733ae6b5712",
     "showTitle": false,
     "tableResultSettingsMap": {},
     "title": ""
    }
   },
   "source": [
    "## Left Join Merge"
   ]
  },
  {
   "cell_type": "code",
   "execution_count": 0,
   "metadata": {
    "application/vnd.databricks.v1+cell": {
     "cellMetadata": {
      "byteLimit": 2048000,
      "rowLimit": 10000
     },
     "inputWidgets": {},
     "nuid": "ed655d56-eff9-4f94-a9fe-c8699a577f37",
     "showTitle": false,
     "tableResultSettingsMap": {},
     "title": ""
    }
   },
   "outputs": [
    {
     "output_type": "display_data",
     "data": {
      "text/plain": [
       ""
      ]
     },
     "metadata": {
      "application/vnd.databricks.v1+output": {
       "arguments": {},
       "data": "",
       "errorSummary": "Command skipped",
       "errorTraceType": "ansi",
       "metadata": {},
       "type": "ipynbError"
      }
     },
     "output_type": "display_data"
    }
   ],
   "source": [
    "# Merge Spark Dataframes with LEFT Join\n",
    "df_sp_left = df_sp1.join(df_sp2, df_sp1.category == df_sp2.category, \"left\")\n",
    "df_sp_left .display()\n",
    "\n",
    "# Merge Spark Dataframes with LEFT Join - Drop Duplicate Column and Set NULL to Diffrent Value\n",
    "df_sp_left  = df_sp1.join(df_sp2, df_sp1.category == df_sp2.category, \"left\") \\\n",
    "    .drop(df_sp2.category) \\\n",
    "        .na.fill(value='pink', subset=['color'])\n",
    "df_sp_left .display()"
   ]
  },
  {
   "cell_type": "code",
   "execution_count": 0,
   "metadata": {
    "application/vnd.databricks.v1+cell": {
     "cellMetadata": {
      "byteLimit": 2048000,
      "rowLimit": 10000
     },
     "inputWidgets": {},
     "nuid": "dd37b9f8-3173-40b2-bfc0-bfae4849d1b2",
     "showTitle": false,
     "tableResultSettingsMap": {},
     "title": ""
    }
   },
   "outputs": [
    {
     "output_type": "display_data",
     "data": {
      "text/plain": [
       ""
      ]
     },
     "metadata": {
      "application/vnd.databricks.v1+output": {
       "arguments": {},
       "data": "",
       "errorSummary": "Command skipped",
       "errorTraceType": "ansi",
       "metadata": {},
       "type": "ipynbError"
      }
     },
     "output_type": "display_data"
    }
   ],
   "source": [
    "# Merge Spark Pandas Dataframes with LEFT Join - Automatically Coalesces 'ON' Column\n",
    "df_ps_left = ps.merge(df_ps1, df_ps2, on='category', how=\"left\")\n",
    "df_ps_left.display()\n",
    "\n",
    "# Merge Spark Pandas Dataframes with LEFT Join - Set NULL to Diffrent Value\n",
    "df_ps_left = ps.merge(df_ps1, df_ps2, on='category', how=\"left\").fillna('pink')\n",
    "df_ps_left.display()"
   ]
  },
  {
   "cell_type": "markdown",
   "metadata": {
    "application/vnd.databricks.v1+cell": {
     "cellMetadata": {
      "byteLimit": 2048000,
      "rowLimit": 10000
     },
     "inputWidgets": {},
     "nuid": "e88c1af9-bef2-4c8a-b952-7ce3ddb1a77f",
     "showTitle": false,
     "tableResultSettingsMap": {},
     "title": ""
    }
   },
   "source": [
    "## Full/Outer Join Merge"
   ]
  },
  {
   "cell_type": "code",
   "execution_count": 0,
   "metadata": {
    "application/vnd.databricks.v1+cell": {
     "cellMetadata": {
      "byteLimit": 2048000,
      "rowLimit": 10000
     },
     "inputWidgets": {},
     "nuid": "19fcb8f7-e8d2-457e-bb32-d521f78f5672",
     "showTitle": false,
     "tableResultSettingsMap": {},
     "title": ""
    }
   },
   "outputs": [
    {
     "output_type": "display_data",
     "data": {
      "text/plain": [
       ""
      ]
     },
     "metadata": {
      "application/vnd.databricks.v1+output": {
       "arguments": {},
       "data": "",
       "errorSummary": "Command skipped",
       "errorTraceType": "ansi",
       "metadata": {},
       "type": "ipynbError"
      }
     },
     "output_type": "display_data"
    }
   ],
   "source": [
    "# Merge Spark Dataframes with FULL Join\n",
    "df_sp_full = df_sp1.join(df_sp2, df_sp1.category == df_sp2.category, \"full\")\n",
    "df_sp_left .display()\n",
    "\n",
    "# Merge Spark Dataframes with FULL Join - Coalesce Category\n",
    "df_sp_full = df_sp1.join(df_sp2, df_sp1.category == df_sp2.category, \"full\") \\\n",
    "    .withColumn('new_category', F.coalesce(df_sp1.category,df_sp2.category)) \\\n",
    "    .na.fill(value='pink', subset=['color']) \\ \n",
    "    .na.fill(value=9, subset=['number']) \\\n",
    "    .select(['new_category', 'number', 'color' ]) \n",
    "    \n",
    "df_sp_full.display()"
   ]
  },
  {
   "cell_type": "code",
   "execution_count": 0,
   "metadata": {
    "application/vnd.databricks.v1+cell": {
     "cellMetadata": {
      "byteLimit": 2048000,
      "rowLimit": 10000
     },
     "inputWidgets": {},
     "nuid": "b8805881-88f3-4964-8f5a-b363510081ff",
     "showTitle": false,
     "tableResultSettingsMap": {},
     "title": ""
    }
   },
   "outputs": [
    {
     "output_type": "display_data",
     "data": {
      "text/plain": [
       ""
      ]
     },
     "metadata": {
      "application/vnd.databricks.v1+output": {
       "arguments": {},
       "data": "",
       "errorSummary": "Command skipped",
       "errorTraceType": "ansi",
       "metadata": {},
       "type": "ipynbError"
      }
     },
     "output_type": "display_data"
    }
   ],
   "source": [
    "# Merge Spark Pandas Dataframes with OUTER Join - Automatically Coalesces 'ON' Column\n",
    "df_ps_full = ps.merge(df_ps1, df_ps2, on='category', how=\"outer\")\n",
    "df_ps_full.display()\n",
    "\n",
    "# Merge Spark Pandas Dataframes with OUTER Join \n",
    "df_ps_full  = ps.merge(df_ps1, df_ps2, on='category', how=\"outer\")\n",
    "df_ps_full['color'] = df_ps_full['color'].fillna('pink')\n",
    "df_ps_full['number'] = df_ps_full['number'].fillna(9)\n",
    "df_ps_full.display()"
   ]
  },
  {
   "cell_type": "markdown",
   "metadata": {
    "application/vnd.databricks.v1+cell": {
     "cellMetadata": {
      "byteLimit": 2048000,
      "rowLimit": 10000
     },
     "inputWidgets": {},
     "nuid": "b2c0a638-ca9e-4f17-bf54-ae9dbf46ea60",
     "showTitle": false,
     "tableResultSettingsMap": {},
     "title": ""
    }
   },
   "source": [
    "## Transposing Dataframes"
   ]
  },
  {
   "cell_type": "code",
   "execution_count": 0,
   "metadata": {
    "application/vnd.databricks.v1+cell": {
     "cellMetadata": {
      "byteLimit": 2048000,
      "rowLimit": 10000
     },
     "inputWidgets": {},
     "nuid": "2fd99787-825e-4dfe-9850-e5d542ed90d3",
     "showTitle": false,
     "tableResultSettingsMap": {},
     "title": ""
    }
   },
   "outputs": [
    {
     "output_type": "stream",
     "name": "stdout",
     "output_type": "stream",
     "text": [
      "{'member': ['A', 'B', 'C'], 'jan': [1, 0, 1], 'feb': [1, 0, 1], 'mar': [1, 0, 1], 'apr': [1, 0, 1], 'may': [1, 0, 1], 'jun': [1, 0, 1], 'jul': [1, 0, 0], 'aug': [1, 0, 0], 'sep': [1, 0, 0], 'oct': [1, 0, 0], 'nov': [1, 0, 0], 'dec': [1, 0, 0]}\n"
     ]
    },
    {
     "output_type": "display_data",
     "data": {
      "text/html": [
       "<style scoped>\n",
       "  .table-result-container {\n",
       "    max-height: 300px;\n",
       "    overflow: auto;\n",
       "  }\n",
       "  table, th, td {\n",
       "    border: 1px solid black;\n",
       "    border-collapse: collapse;\n",
       "  }\n",
       "  th, td {\n",
       "    padding: 5px;\n",
       "  }\n",
       "  th {\n",
       "    text-align: left;\n",
       "  }\n",
       "</style><div class='table-result-container'><table class='table-result'><thead style='background-color: white'><tr><th>member</th><th>jan</th><th>feb</th><th>mar</th><th>apr</th><th>may</th><th>jun</th><th>jul</th><th>aug</th><th>sep</th><th>oct</th><th>nov</th><th>dec</th></tr></thead><tbody><tr><td>A</td><td>1</td><td>1</td><td>1</td><td>1</td><td>1</td><td>1</td><td>1</td><td>1</td><td>1</td><td>1</td><td>1</td><td>1</td></tr><tr><td>B</td><td>0</td><td>0</td><td>0</td><td>0</td><td>0</td><td>0</td><td>0</td><td>0</td><td>0</td><td>0</td><td>0</td><td>0</td></tr><tr><td>C</td><td>1</td><td>1</td><td>1</td><td>1</td><td>1</td><td>1</td><td>0</td><td>0</td><td>0</td><td>0</td><td>0</td><td>0</td></tr></tbody></table></div>"
      ]
     },
     "metadata": {
      "application/vnd.databricks.v1+output": {
       "addedWidgets": {},
       "aggData": [],
       "aggError": "",
       "aggOverflow": false,
       "aggSchema": [],
       "aggSeriesLimitReached": false,
       "aggType": "",
       "arguments": {},
       "columnCustomDisplayInfos": {},
       "data": [
        [
         "A",
         1,
         1,
         1,
         1,
         1,
         1,
         1,
         1,
         1,
         1,
         1,
         1
        ],
        [
         "B",
         0,
         0,
         0,
         0,
         0,
         0,
         0,
         0,
         0,
         0,
         0,
         0
        ],
        [
         "C",
         1,
         1,
         1,
         1,
         1,
         1,
         0,
         0,
         0,
         0,
         0,
         0
        ]
       ],
       "datasetInfos": [],
       "dbfsResultPath": null,
       "isJsonSchema": true,
       "metadata": {},
       "overflow": false,
       "plotOptions": {
        "customPlotOptions": {},
        "displayType": "table",
        "pivotAggregation": null,
        "pivotColumns": null,
        "xColumns": null,
        "yColumns": null
       },
       "removedWidgets": [],
       "schema": [
        {
         "metadata": "{}",
         "name": "member",
         "type": "\"string\""
        },
        {
         "metadata": "{}",
         "name": "jan",
         "type": "\"long\""
        },
        {
         "metadata": "{}",
         "name": "feb",
         "type": "\"long\""
        },
        {
         "metadata": "{}",
         "name": "mar",
         "type": "\"long\""
        },
        {
         "metadata": "{}",
         "name": "apr",
         "type": "\"long\""
        },
        {
         "metadata": "{}",
         "name": "may",
         "type": "\"long\""
        },
        {
         "metadata": "{}",
         "name": "jun",
         "type": "\"long\""
        },
        {
         "metadata": "{}",
         "name": "jul",
         "type": "\"long\""
        },
        {
         "metadata": "{}",
         "name": "aug",
         "type": "\"long\""
        },
        {
         "metadata": "{}",
         "name": "sep",
         "type": "\"long\""
        },
        {
         "metadata": "{}",
         "name": "oct",
         "type": "\"long\""
        },
        {
         "metadata": "{}",
         "name": "nov",
         "type": "\"long\""
        },
        {
         "metadata": "{}",
         "name": "dec",
         "type": "\"long\""
        }
       ],
       "type": "table"
      }
     },
     "output_type": "display_data"
    },
    {
     "output_type": "display_data",
     "data": {
      "text/html": [
       "<style scoped>\n",
       "  .table-result-container {\n",
       "    max-height: 300px;\n",
       "    overflow: auto;\n",
       "  }\n",
       "  table, th, td {\n",
       "    border: 1px solid black;\n",
       "    border-collapse: collapse;\n",
       "  }\n",
       "  th, td {\n",
       "    padding: 5px;\n",
       "  }\n",
       "  th {\n",
       "    text-align: left;\n",
       "  }\n",
       "</style><div class='table-result-container'><table class='table-result'><thead style='background-color: white'><tr><th>member</th><th>jan</th><th>feb</th><th>mar</th><th>apr</th><th>may</th><th>jun</th><th>jul</th><th>aug</th><th>sep</th><th>oct</th><th>nov</th><th>dec</th></tr></thead><tbody><tr><td>A</td><td>1</td><td>1</td><td>1</td><td>1</td><td>1</td><td>1</td><td>1</td><td>1</td><td>1</td><td>1</td><td>1</td><td>1</td></tr><tr><td>B</td><td>0</td><td>0</td><td>0</td><td>0</td><td>0</td><td>0</td><td>0</td><td>0</td><td>0</td><td>0</td><td>0</td><td>0</td></tr><tr><td>C</td><td>1</td><td>1</td><td>1</td><td>1</td><td>1</td><td>1</td><td>0</td><td>0</td><td>0</td><td>0</td><td>0</td><td>0</td></tr></tbody></table></div>"
      ]
     },
     "metadata": {
      "application/vnd.databricks.v1+output": {
       "addedWidgets": {},
       "aggData": [],
       "aggError": "",
       "aggOverflow": false,
       "aggSchema": [],
       "aggSeriesLimitReached": false,
       "aggType": "",
       "arguments": {},
       "columnCustomDisplayInfos": {},
       "data": [
        [
         "A",
         1,
         1,
         1,
         1,
         1,
         1,
         1,
         1,
         1,
         1,
         1,
         1
        ],
        [
         "B",
         0,
         0,
         0,
         0,
         0,
         0,
         0,
         0,
         0,
         0,
         0,
         0
        ],
        [
         "C",
         1,
         1,
         1,
         1,
         1,
         1,
         0,
         0,
         0,
         0,
         0,
         0
        ]
       ],
       "datasetInfos": [],
       "dbfsResultPath": null,
       "isJsonSchema": true,
       "metadata": {},
       "overflow": false,
       "plotOptions": {
        "customPlotOptions": {},
        "displayType": "table",
        "pivotAggregation": null,
        "pivotColumns": null,
        "xColumns": null,
        "yColumns": null
       },
       "removedWidgets": [],
       "schema": [
        {
         "metadata": "{}",
         "name": "member",
         "type": "\"string\""
        },
        {
         "metadata": "{}",
         "name": "jan",
         "type": "\"long\""
        },
        {
         "metadata": "{}",
         "name": "feb",
         "type": "\"long\""
        },
        {
         "metadata": "{}",
         "name": "mar",
         "type": "\"long\""
        },
        {
         "metadata": "{}",
         "name": "apr",
         "type": "\"long\""
        },
        {
         "metadata": "{}",
         "name": "may",
         "type": "\"long\""
        },
        {
         "metadata": "{}",
         "name": "jun",
         "type": "\"long\""
        },
        {
         "metadata": "{}",
         "name": "jul",
         "type": "\"long\""
        },
        {
         "metadata": "{}",
         "name": "aug",
         "type": "\"long\""
        },
        {
         "metadata": "{}",
         "name": "sep",
         "type": "\"long\""
        },
        {
         "metadata": "{}",
         "name": "oct",
         "type": "\"long\""
        },
        {
         "metadata": "{}",
         "name": "nov",
         "type": "\"long\""
        },
        {
         "metadata": "{}",
         "name": "dec",
         "type": "\"long\""
        }
       ],
       "type": "table"
      }
     },
     "output_type": "display_data"
    }
   ],
   "source": [
    "# Create Dictionary to Use as Dataframe\n",
    "data = {'member':['A','B','C'],\n",
    "        'jan':[1,0,1],\n",
    "        'feb':[1,0,1],\n",
    "        'mar':[1,0,1],\n",
    "        'apr':[1,0,1],\n",
    "        'may':[1,0,1],\n",
    "        'jun':[1,0,1],\n",
    "        'jul':[1,0,0],\n",
    "        'aug':[1,0,0],\n",
    "        'sep':[1,0,0],\n",
    "        'oct':[1,0,0],\n",
    "        'nov':[1,0,0],\n",
    "        'dec':[1,0,0]\n",
    "        }\n",
    "\n",
    "print(data)\n",
    "\n",
    "# Create New Spark Pandas Dataframe\n",
    "ds_ps_covg = ps.DataFrame(data)\n",
    "ds_ps_covg.display()\n",
    "\n",
    "# Create New Spark Dataframe\n",
    "ds_sp_covg = ds_ps_covg.to_spark()\n",
    "ds_sp_covg.display()"
   ]
  },
  {
   "cell_type": "markdown",
   "metadata": {
    "application/vnd.databricks.v1+cell": {
     "cellMetadata": {
      "byteLimit": 2048000,
      "rowLimit": 10000
     },
     "inputWidgets": {},
     "nuid": "700d35f0-a129-46c5-a021-3f8a8b231a8f",
     "showTitle": false,
     "tableResultSettingsMap": {},
     "title": ""
    }
   },
   "source": [
    "## Transpose from \"Wide\" to \"Long\" ???"
   ]
  },
  {
   "cell_type": "code",
   "execution_count": 0,
   "metadata": {
    "application/vnd.databricks.v1+cell": {
     "cellMetadata": {
      "byteLimit": 2048000,
      "rowLimit": 10000
     },
     "inputWidgets": {},
     "nuid": "8b69e48c-30ec-4ead-a2dd-3b7a9925fe51",
     "showTitle": false,
     "tableResultSettingsMap": {},
     "title": ""
    }
   },
   "outputs": [
    {
     "output_type": "stream",
     "name": "stdout",
     "output_type": "stream",
     "text": [
      "Unexpected exception formatting exception. Falling back to standard exception\n"
     ]
    },
    {
     "output_type": "stream",
     "name": "stderr",
     "output_type": "stream",
     "text": [
      "Traceback (most recent call last):\n  File \"/databricks/python/lib/python3.9/site-packages/IPython/core/interactiveshell.py\", line 3378, in run_code\n    exec(code_obj, self.user_global_ns, self.user_ns)\n  File \"<command-2400819480515891>\", line 5, in <module>\n    pivotDF = ds_ps_covg.groupby(\"member\").pivot(\"jan\").sum(\"jan\")\n  File \"/databricks/spark/python/pyspark/instrumentation_utils.py\", line 48, in wrapper\n    res = func(*args, **kwargs)\n  File \"/databricks/spark/python/pyspark/pandas/groupby.py\", line 2801, in __getattr__\n    return self.__getitem__(item)\n  File \"/databricks/spark/python/pyspark/instrumentation_utils.py\", line 43, in wrapper\n    return func(*args, **kwargs)\n  File \"/databricks/spark/python/pyspark/pandas/groupby.py\", line 2806, in __getitem__\n    self._psdf._psser_for(item if is_name_like_tuple(item) else (item,)),\n  File \"/databricks/spark/python/pyspark/pandas/frame.py\", line 705, in _psser_for\n    return self._pssers[label]\nKeyError: ('pivot',)\n\nDuring handling of the above exception, another exception occurred:\n\nTraceback (most recent call last):\n  File \"/databricks/python/lib/python3.9/site-packages/IPython/core/interactiveshell.py\", line 1997, in showtraceback\n    stb = self.InteractiveTB.structured_traceback(\n  File \"/databricks/python/lib/python3.9/site-packages/IPython/core/ultratb.py\", line 1112, in structured_traceback\n    return FormattedTB.structured_traceback(\n  File \"/databricks/python/lib/python3.9/site-packages/IPython/core/ultratb.py\", line 1006, in structured_traceback\n    return VerboseTB.structured_traceback(\n  File \"/databricks/python/lib/python3.9/site-packages/IPython/core/ultratb.py\", line 859, in structured_traceback\n    formatted_exception = self.format_exception_as_a_whole(etype, evalue, etb, number_of_lines_of_context,\n  File \"/databricks/python/lib/python3.9/site-packages/IPython/core/ultratb.py\", line 812, in format_exception_as_a_whole\n    frames.append(self.format_record(r))\n  File \"/databricks/python/lib/python3.9/site-packages/IPython/core/ultratb.py\", line 730, in format_record\n    result += ''.join(_format_traceback_lines(frame_info.lines, Colors, self.has_colors, lvals))\n  File \"/databricks/python/lib/python3.9/site-packages/stack_data/utils.py\", line 145, in cached_property_wrapper\n    value = obj.__dict__[self.func.__name__] = self.func(obj)\n  File \"/databricks/python/lib/python3.9/site-packages/stack_data/core.py\", line 698, in lines\n    pieces = self.included_pieces\n  File \"/databricks/python/lib/python3.9/site-packages/stack_data/utils.py\", line 145, in cached_property_wrapper\n    value = obj.__dict__[self.func.__name__] = self.func(obj)\n  File \"/databricks/python/lib/python3.9/site-packages/stack_data/core.py\", line 649, in included_pieces\n    pos = scope_pieces.index(self.executing_piece)\n  File \"/databricks/python/lib/python3.9/site-packages/stack_data/utils.py\", line 145, in cached_property_wrapper\n    value = obj.__dict__[self.func.__name__] = self.func(obj)\n  File \"/databricks/python/lib/python3.9/site-packages/stack_data/core.py\", line 628, in executing_piece\n    return only(\n  File \"/databricks/python/lib/python3.9/site-packages/executing/executing.py\", line 164, in only\n    raise NotOneValueFound('Expected one value, found 0')\nexecuting.executing.NotOneValueFound: Expected one value, found 0\n"
     ]
    },
    {
     "output_type": "display_data",
     "data": {
      "text/plain": [
       ""
      ]
     },
     "metadata": {
      "application/vnd.databricks.v1+output": {
       "arguments": {},
       "data": "",
       "errorSummary": "<span class='ansi-red-fg'>KeyError</span>: ('pivot',)",
       "errorTraceType": "ansi",
       "metadata": {},
       "type": "ipynbError"
      }
     },
     "output_type": "display_data"
    }
   ],
   "source": [
    "# Transpose Spark Pandas Dataframe from \"Wide\" to \"Long\"\n",
    "# https://sparkbyexamples.com/pyspark/pyspark-pivot-and-unpivot-dataframe/\n",
    "\n",
    "from pyspark.sql.functions import expr\n",
    "pivotDF = ds_ps_covg.groupby(\"member\").pivot(\"jan\").sum(\"jan\")\n",
    "pivotDF.display()"
   ]
  },
  {
   "cell_type": "markdown",
   "metadata": {
    "application/vnd.databricks.v1+cell": {
     "cellMetadata": {
      "byteLimit": 2048000,
      "rowLimit": 10000
     },
     "inputWidgets": {},
     "nuid": "a1d463d4-0dc9-4d6d-8c79-f02f64a49590",
     "showTitle": false,
     "tableResultSettingsMap": {},
     "title": ""
    }
   },
   "source": [
    "## Data Visualizations"
   ]
  },
  {
   "cell_type": "code",
   "execution_count": 0,
   "metadata": {
    "application/vnd.databricks.v1+cell": {
     "cellMetadata": {
      "byteLimit": 2048000,
      "rowLimit": 10000
     },
     "inputWidgets": {},
     "nuid": "f60dd59e-0f04-4875-92b1-cbed0e47d621",
     "showTitle": false,
     "tableResultSettingsMap": {},
     "title": ""
    }
   },
   "outputs": [
    {
     "output_type": "display_data",
     "data": {
      "text/html": [
       "<style scoped>\n",
       "  .table-result-container {\n",
       "    max-height: 300px;\n",
       "    overflow: auto;\n",
       "  }\n",
       "  table, th, td {\n",
       "    border: 1px solid black;\n",
       "    border-collapse: collapse;\n",
       "  }\n",
       "  th, td {\n",
       "    padding: 5px;\n",
       "  }\n",
       "  th {\n",
       "    text-align: left;\n",
       "  }\n",
       "</style><div class='table-result-container'><table class='table-result'><thead style='background-color: white'><tr><th>A</th><th>B</th></tr></thead><tbody><tr><td>1</td><td>a</td></tr><tr><td>2</td><td>b</td></tr><tr><td>3</td><td>b</td></tr><tr><td>4</td><td>b</td></tr><tr><td>5</td><td>c</td></tr><tr><td>6</td><td>c</td></tr><tr><td>7</td><td>d</td></tr><tr><td>8</td><td>d</td></tr><tr><td>9</td><td>d</td></tr><tr><td>10</td><td>d</td></tr></tbody></table></div>"
      ]
     },
     "metadata": {
      "application/vnd.databricks.v1+output": {
       "addedWidgets": {},
       "aggData": [],
       "aggError": "",
       "aggOverflow": false,
       "aggSchema": [],
       "aggSeriesLimitReached": false,
       "aggType": "",
       "arguments": {},
       "columnCustomDisplayInfos": {},
       "data": [
        [
         1,
         "a"
        ],
        [
         2,
         "b"
        ],
        [
         3,
         "b"
        ],
        [
         4,
         "b"
        ],
        [
         5,
         "c"
        ],
        [
         6,
         "c"
        ],
        [
         7,
         "d"
        ],
        [
         8,
         "d"
        ],
        [
         9,
         "d"
        ],
        [
         10,
         "d"
        ]
       ],
       "datasetInfos": [],
       "dbfsResultPath": null,
       "isJsonSchema": true,
       "metadata": {},
       "overflow": false,
       "plotOptions": {
        "customPlotOptions": {},
        "displayType": "table",
        "pivotAggregation": null,
        "pivotColumns": null,
        "xColumns": null,
        "yColumns": null
       },
       "removedWidgets": [],
       "schema": [
        {
         "metadata": "{}",
         "name": "A",
         "type": "\"integer\""
        },
        {
         "metadata": "{}",
         "name": "B",
         "type": "\"string\""
        }
       ],
       "type": "table"
      }
     },
     "output_type": "display_data"
    }
   ],
   "source": [
    "sp_df.display()"
   ]
  },
  {
   "cell_type": "code",
   "execution_count": 0,
   "metadata": {
    "application/vnd.databricks.v1+cell": {
     "cellMetadata": {
      "byteLimit": 2048000,
      "rowLimit": 10000
     },
     "inputWidgets": {},
     "nuid": "0a37e0e2-5a5f-466d-a2a2-94cabd6a9689",
     "showTitle": false,
     "tableResultSettingsMap": {},
     "title": ""
    }
   },
   "outputs": [
    {
     "output_type": "display_data",
     "data": {
      "text/plain": [
       "\u001B[0;31m---------------------------------------------------------------------------\u001B[0m\n",
       "\u001B[0;31mModuleNotFoundError\u001B[0m                       Traceback (most recent call last)\n",
       "File \u001B[0;32m<command-2400819480515896>:2\u001B[0m\n",
       "\u001B[1;32m      1\u001B[0m \u001B[38;5;66;03m# Import PySpark Dist Explore and MatPlotlib Packages\u001B[39;00m\n",
       "\u001B[0;32m----> 2\u001B[0m \u001B[38;5;28;01mfrom\u001B[39;00m \u001B[38;5;21;01mpyspark\u001B[39;00m\u001B[38;5;21;01m.\u001B[39;00m\u001B[38;5;21;01mdist_explore\u001B[39;00m \u001B[38;5;28;01mimport\u001B[39;00m hist \n",
       "\u001B[1;32m      3\u001B[0m \u001B[38;5;28;01mimport\u001B[39;00m \u001B[38;5;21;01mmatplotlib\u001B[39;00m\u001B[38;5;21;01m.\u001B[39;00m\u001B[38;5;21;01mpyplot\u001B[39;00m \u001B[38;5;28;01mas\u001B[39;00m \u001B[38;5;21;01mplt\u001B[39;00m \n",
       "\u001B[1;32m      5\u001B[0m \u001B[38;5;66;03m# Create B Histogram with Spark Dataframe\u001B[39;00m\n",
       "\n",
       "File \u001B[0;32m/databricks/python_shell/dbruntime/PythonPackageImportsInstrumentation/__init__.py:171\u001B[0m, in \u001B[0;36m_create_import_patch.<locals>.import_patch\u001B[0;34m(name, globals, locals, fromlist, level)\u001B[0m\n",
       "\u001B[1;32m    166\u001B[0m thread_local\u001B[38;5;241m.\u001B[39m_nest_level \u001B[38;5;241m+\u001B[39m\u001B[38;5;241m=\u001B[39m \u001B[38;5;241m1\u001B[39m\n",
       "\u001B[1;32m    168\u001B[0m \u001B[38;5;28;01mtry\u001B[39;00m:\n",
       "\u001B[1;32m    169\u001B[0m     \u001B[38;5;66;03m# Import the desired module. If you’re seeing this while debugging a failed import,\u001B[39;00m\n",
       "\u001B[1;32m    170\u001B[0m     \u001B[38;5;66;03m# look at preceding stack frames for relevant error information.\u001B[39;00m\n",
       "\u001B[0;32m--> 171\u001B[0m     original_result \u001B[38;5;241m=\u001B[39m \u001B[43mpython_builtin_import\u001B[49m\u001B[43m(\u001B[49m\u001B[43mname\u001B[49m\u001B[43m,\u001B[49m\u001B[43m \u001B[49m\u001B[38;5;28;43mglobals\u001B[39;49m\u001B[43m,\u001B[49m\u001B[43m \u001B[49m\u001B[38;5;28;43mlocals\u001B[39;49m\u001B[43m,\u001B[49m\u001B[43m \u001B[49m\u001B[43mfromlist\u001B[49m\u001B[43m,\u001B[49m\u001B[43m \u001B[49m\u001B[43mlevel\u001B[49m\u001B[43m)\u001B[49m\n",
       "\u001B[1;32m    173\u001B[0m     is_root_import \u001B[38;5;241m=\u001B[39m thread_local\u001B[38;5;241m.\u001B[39m_nest_level \u001B[38;5;241m==\u001B[39m \u001B[38;5;241m1\u001B[39m\n",
       "\u001B[1;32m    174\u001B[0m     \u001B[38;5;66;03m# `level` represents the number of leading dots in a relative import statement.\u001B[39;00m\n",
       "\u001B[1;32m    175\u001B[0m     \u001B[38;5;66;03m# If it's zero, then this is an absolute import.\u001B[39;00m\n",
       "\n",
       "\u001B[0;31mModuleNotFoundError\u001B[0m: No module named 'pyspark_dist_explore'"
      ]
     },
     "metadata": {
      "application/vnd.databricks.v1+output": {
       "arguments": {},
       "data": "\u001B[0;31m---------------------------------------------------------------------------\u001B[0m\n\u001B[0;31mModuleNotFoundError\u001B[0m                       Traceback (most recent call last)\nFile \u001B[0;32m<command-2400819480515896>:2\u001B[0m\n\u001B[1;32m      1\u001B[0m \u001B[38;5;66;03m# Import PySpark Dist Explore and MatPlotlib Packages\u001B[39;00m\n\u001B[0;32m----> 2\u001B[0m \u001B[38;5;28;01mfrom\u001B[39;00m \u001B[38;5;21;01mpyspark\u001B[39;00m\u001B[38;5;21;01m.\u001B[39;00m\u001B[38;5;21;01mdist_explore\u001B[39;00m \u001B[38;5;28;01mimport\u001B[39;00m hist \n\u001B[1;32m      3\u001B[0m \u001B[38;5;28;01mimport\u001B[39;00m \u001B[38;5;21;01mmatplotlib\u001B[39;00m\u001B[38;5;21;01m.\u001B[39;00m\u001B[38;5;21;01mpyplot\u001B[39;00m \u001B[38;5;28;01mas\u001B[39;00m \u001B[38;5;21;01mplt\u001B[39;00m \n\u001B[1;32m      5\u001B[0m \u001B[38;5;66;03m# Create B Histogram with Spark Dataframe\u001B[39;00m\n\nFile \u001B[0;32m/databricks/python_shell/dbruntime/PythonPackageImportsInstrumentation/__init__.py:171\u001B[0m, in \u001B[0;36m_create_import_patch.<locals>.import_patch\u001B[0;34m(name, globals, locals, fromlist, level)\u001B[0m\n\u001B[1;32m    166\u001B[0m thread_local\u001B[38;5;241m.\u001B[39m_nest_level \u001B[38;5;241m+\u001B[39m\u001B[38;5;241m=\u001B[39m \u001B[38;5;241m1\u001B[39m\n\u001B[1;32m    168\u001B[0m \u001B[38;5;28;01mtry\u001B[39;00m:\n\u001B[1;32m    169\u001B[0m     \u001B[38;5;66;03m# Import the desired module. If you’re seeing this while debugging a failed import,\u001B[39;00m\n\u001B[1;32m    170\u001B[0m     \u001B[38;5;66;03m# look at preceding stack frames for relevant error information.\u001B[39;00m\n\u001B[0;32m--> 171\u001B[0m     original_result \u001B[38;5;241m=\u001B[39m \u001B[43mpython_builtin_import\u001B[49m\u001B[43m(\u001B[49m\u001B[43mname\u001B[49m\u001B[43m,\u001B[49m\u001B[43m \u001B[49m\u001B[38;5;28;43mglobals\u001B[39;49m\u001B[43m,\u001B[49m\u001B[43m \u001B[49m\u001B[38;5;28;43mlocals\u001B[39;49m\u001B[43m,\u001B[49m\u001B[43m \u001B[49m\u001B[43mfromlist\u001B[49m\u001B[43m,\u001B[49m\u001B[43m \u001B[49m\u001B[43mlevel\u001B[49m\u001B[43m)\u001B[49m\n\u001B[1;32m    173\u001B[0m     is_root_import \u001B[38;5;241m=\u001B[39m thread_local\u001B[38;5;241m.\u001B[39m_nest_level \u001B[38;5;241m==\u001B[39m \u001B[38;5;241m1\u001B[39m\n\u001B[1;32m    174\u001B[0m     \u001B[38;5;66;03m# `level` represents the number of leading dots in a relative import statement.\u001B[39;00m\n\u001B[1;32m    175\u001B[0m     \u001B[38;5;66;03m# If it's zero, then this is an absolute import.\u001B[39;00m\n\n\u001B[0;31mModuleNotFoundError\u001B[0m: No module named 'pyspark_dist_explore'",
       "errorSummary": "<span class='ansi-red-fg'>ModuleNotFoundError</span>: No module named 'pyspark_dist_explore'",
       "errorTraceType": "ansi",
       "metadata": {},
       "type": "ipynbError"
      }
     },
     "output_type": "display_data"
    }
   ],
   "source": [
    "# Import PySpark Dist Explore and MatPlotlib Packages\n",
    "from pyspark_dist_explore import hist \n",
    "import matplotlib.pyplot as plt \n",
    "\n",
    "# Create B Histogram with Spark Dataframe\n",
    "fig, ax = plt.subplots()\n",
    "hist(ax, sp_df.select('B'), bins=3, color=['red'])\n"
   ]
  },
  {
   "cell_type": "code",
   "execution_count": 0,
   "metadata": {
    "application/vnd.databricks.v1+cell": {
     "cellMetadata": {
      "byteLimit": 2048000,
      "rowLimit": 10000
     },
     "inputWidgets": {},
     "nuid": "36f05406-0a1c-40cc-bff3-e6df7c2bc875",
     "showTitle": false,
     "tableResultSettingsMap": {},
     "title": ""
    }
   },
   "outputs": [
    {
     "output_type": "stream",
     "name": "stdout",
     "output_type": "stream",
     "text": [
      "Out[39]: <AxesSubplot:xlabel='A', ylabel='B'>"
     ]
    },
    {
     "output_type": "display_data",
     "data": {
      "image/png": "[encoded data removed]"
     },
     "metadata": {
      "application/vnd.databricks.v1+output": {
       "addedWidgets": {},
       "arguments": {},
       "data": "data:image/png;base64,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\n",
       "datasetInfos": [],
       "metadata": {},
       "removedWidgets": [],
       "type": "image"
      }
     },
     "output_type": "display_data"
    }
   ],
   "source": [
    "# Convert PySpark to Pandas Dataframe\n",
    "pd_df = sp_df.toPandas()\n",
    "\n",
    "# Create Scatter Plot with Pandas Dataframe\n",
    "pd_df.plot.scatter(x='A', y='B', color='red', figsize=(30,10))"
   ]
  },
  {
   "cell_type": "code",
   "execution_count": 0,
   "metadata": {
    "application/vnd.databricks.v1+cell": {
     "cellMetadata": {
      "byteLimit": 2048000,
      "rowLimit": 10000
     },
     "inputWidgets": {},
     "nuid": "1cff3b4b-644b-4534-a9e0-9027b727998c",
     "showTitle": false,
     "tableResultSettingsMap": {},
     "title": ""
    }
   },
   "outputs": [
    {
     "output_type": "display_data",
     "data": {
      "text/html": [
       "<style scoped>\n",
       "  .table-result-container {\n",
       "    max-height: 300px;\n",
       "    overflow: auto;\n",
       "  }\n",
       "  table, th, td {\n",
       "    border: 1px solid black;\n",
       "    border-collapse: collapse;\n",
       "  }\n",
       "  th, td {\n",
       "    padding: 5px;\n",
       "  }\n",
       "  th {\n",
       "    text-align: left;\n",
       "  }\n",
       "</style><div class='table-result-container'><table class='table-result'><thead style='background-color: white'><tr><th>B</th><th>A</th></tr></thead><tbody><tr><td>1</td><td>1</td></tr><tr><td>3</td><td>9</td></tr><tr><td>2</td><td>11</td></tr><tr><td>4</td><td>34</td></tr></tbody></table></div>"
      ]
     },
     "metadata": {
      "application/vnd.databricks.v1+output": {
       "addedWidgets": {},
       "aggData": [],
       "aggError": "",
       "aggOverflow": false,
       "aggSchema": [],
       "aggSeriesLimitReached": false,
       "aggType": "",
       "arguments": {},
       "columnCustomDisplayInfos": {},
       "data": [
        [
         1,
         1
        ],
        [
         3,
         9
        ],
        [
         2,
         11
        ],
        [
         4,
         34
        ]
       ],
       "datasetInfos": [],
       "dbfsResultPath": null,
       "isJsonSchema": true,
       "metadata": {},
       "overflow": false,
       "plotOptions": {
        "customPlotOptions": {},
        "displayType": "table",
        "pivotAggregation": null,
        "pivotColumns": null,
        "xColumns": null,
        "yColumns": null
       },
       "removedWidgets": [],
       "schema": [
        {
         "metadata": "{}",
         "name": "B",
         "type": "\"long\""
        },
        {
         "metadata": "{}",
         "name": "A",
         "type": "\"integer\""
        }
       ],
       "type": "table"
      }
     },
     "output_type": "display_data"
    },
    {
     "output_type": "stream",
     "name": "stdout",
     "output_type": "stream",
     "text": [
      "Out[74]: <AxesSubplot:xlabel='B', ylabel='A'>"
     ]
    },
    {
     "output_type": "display_data",
     "data": {
      "image/png": "[encoded data removed]"
     },
     "metadata": {
      "application/vnd.databricks.v1+output": {
       "addedWidgets": {},
       "arguments": {},
       "data": "data:image/png;base64,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\n",
       "datasetInfos": [],
       "metadata": {},
       "removedWidgets": [],
       "type": "image"
      }
     },
     "output_type": "display_data"
    }
   ],
   "source": [
    "import matplotlib.pyplot as plt\n",
    "import seaborn as sb\n",
    "\n",
    "fig, ax = plt.subplots(figsize=(30,10))\n",
    "\n",
    "#https://stackoverflow.com/questions/71209619/pandas-groupby-and-apply-aggregate-function-across-rows\n",
    "pd_df_gb = pd_df.groupby(['B']).agg({'B':'count', 'A':'sum'})\n",
    "pd_df_gb.display()\n",
    "\n",
    "sb.barplot(x='B', \n",
    "           y='A',\n",
    "           data = pd_df_gb )"
   ]
  }
 ],
 "metadata": {
  "application/vnd.databricks.v1+notebook": {
   "computePreferences": null,
   "dashboards": [],
   "environmentMetadata": {
    "base_environment": "",
    "client": "1"
   },
   "language": "python",
   "notebookMetadata": {
    "mostRecentlyExecutedCommandWithImplicitDF": {
     "commandId": -1,
     "dataframes": [
      "_sqldf"
     ]
    },
    "pythonIndentUnit": 4
   },
   "notebookName": "Databricks project",
   "widgets": {}
  }
 },
 "nbformat": 4,
 "nbformat_minor": 0
}
